{
 "cells": [
  {
   "cell_type": "markdown",
   "id": "f17cfb1a",
   "metadata": {},
   "source": [
    "# Part 1: About neural data"
   ]
  },
  {
   "cell_type": "code",
   "execution_count": null,
   "id": "526286f3",
   "metadata": {},
   "outputs": [],
   "source": [
    "! pip install mne\n",
    "import mne\n",
    "import matplotlib.pyplot as plt\n",
    "import mne.viz\n",
    "\n",
    "import numpy as np\n",
    "from scipy.stats import ttest_ind\n",
    "import copy"
   ]
  },
  {
   "cell_type": "markdown",
   "id": "eb6c56bd",
   "metadata": {},
   "source": [
    "## Loading the data and the Epochs object"
   ]
  },
  {
   "cell_type": "markdown",
   "id": "6fb48615",
   "metadata": {},
   "source": [
    "First we need to download the data from GitHub with the following function:"
   ]
  },
  {
   "cell_type": "code",
   "execution_count": null,
   "id": "04c73302",
   "metadata": {},
   "outputs": [],
   "source": [
    "import requests\n",
    "def download_file(url, outfile=None):\n",
    "    if not outfile:\n",
    "        outfile = url.split('/')[-1]\n",
    "    with requests.get(url, stream=True) as r:\n",
    "        r.raise_for_status()\n",
    "        with open(outfile, 'wb') as f:\n",
    "            for chunk in r.iter_content(chunk_size=8192): \n",
    "                f.write(chunk)\n"
   ]
  },
  {
   "cell_type": "code",
   "execution_count": null,
   "id": "a30ebe8d",
   "metadata": {},
   "outputs": [],
   "source": [
    "download_file('https://github.com/fma0/AMLD/blob/main/902-P.fif?raw=true', outfile='902-P.fif')"
   ]
  },
  {
   "cell_type": "markdown",
   "id": "d6260dc7",
   "metadata": {},
   "source": [
    "Then we load the .fif file containing the epoched EEG recording of participant 902. "
   ]
  },
  {
   "cell_type": "code",
   "execution_count": null,
   "id": "1fac2b2e",
   "metadata": {},
   "outputs": [],
   "source": [
    "data_file = '902-P'"
   ]
  },
  {
   "cell_type": "code",
   "execution_count": null,
   "id": "554cdc8b",
   "metadata": {},
   "outputs": [],
   "source": [
    "epochs = mne.read_epochs(data_file + '.fif', verbose='error')"
   ]
  },
  {
   "cell_type": "code",
   "execution_count": null,
   "id": "0c64e816",
   "metadata": {},
   "outputs": [],
   "source": [
    "epochs"
   ]
  },
  {
   "cell_type": "markdown",
   "id": "b5f712e3",
   "metadata": {},
   "source": [
    "The output of epochs tells us, that we have 154 events, i.e. single trials. Out of which 27 are called *Novel* and 127 *Standard*. This data is from a patient exposed to two different types of audtiory stimulations. \n",
    "We can get all of the trials for the *Standard* condition with:"
   ]
  },
  {
   "cell_type": "code",
   "execution_count": null,
   "id": "002fe263",
   "metadata": {},
   "outputs": [],
   "source": [
    "epochs['Standard']"
   ]
  },
  {
   "cell_type": "markdown",
   "id": "349af76a",
   "metadata": {},
   "source": [
    "The epoch datastructure of mne has an attribute '[info](https://mne.tools/stable/generated/mne.Info.html#mne.Info)', containing information on the sample frequency, the names of the electrodes, filtering information, etc."
   ]
  },
  {
   "cell_type": "code",
   "execution_count": null,
   "id": "038212d4",
   "metadata": {},
   "outputs": [],
   "source": [
    "epochs.info"
   ]
  },
  {
   "cell_type": "markdown",
   "id": "6492421a",
   "metadata": {},
   "source": [
    "We find for example the sample frequecy as follows:"
   ]
  },
  {
   "cell_type": "code",
   "execution_count": null,
   "id": "5af15884",
   "metadata": {},
   "outputs": [],
   "source": [
    "sfreq = epochs.info['sfreq']\n",
    "print(f'The smaple frequency is {sfreq} Hz')"
   ]
  },
  {
   "cell_type": "markdown",
   "id": "f33fac80",
   "metadata": {},
   "source": [
    "And the recorded channels / electrodes  with:"
   ]
  },
  {
   "cell_type": "code",
   "execution_count": null,
   "id": "8eda7669",
   "metadata": {},
   "outputs": [],
   "source": [
    "ch_names = epochs.info['ch_names']\n",
    "print(f'The recording contains the following channels: {ch_names}')"
   ]
  },
  {
   "cell_type": "markdown",
   "id": "1b61c16f",
   "metadata": {},
   "source": [
    "### Exercise 1:\n",
    "\n",
    "How many electrodes were recorded? \n",
    "\n",
    "**Tip:** Either take the length of ch_names, or check the epochs.info above.\n",
    "\n",
    "What is the index of 'Cz'? \n",
    "\n",
    "**Tip**: Define channel_Cz such that: ch_names[channel_Cz] = 'Cz'."
   ]
  },
  {
   "cell_type": "code",
   "execution_count": null,
   "id": "090eb3cc",
   "metadata": {},
   "outputs": [],
   "source": []
  },
  {
   "cell_type": "markdown",
   "id": "cdb96b7e",
   "metadata": {},
   "source": [
    "The epochs object also gives you a numpy array with all the collected timepoint per trial"
   ]
  },
  {
   "cell_type": "code",
   "execution_count": null,
   "id": "f10f661e",
   "metadata": {},
   "outputs": [],
   "source": [
    "times = epochs.times\n",
    "print(times)"
   ]
  },
  {
   "cell_type": "markdown",
   "id": "6bf05a16",
   "metadata": {},
   "source": [
    "You can find additional information for the epochs object here: [Epoch](https://mne.tools/stable/generated/mne.Epochs.html#mne.Epochs)\n",
    "\n",
    "Now we will look at how to extract the data and some of the functions provided by mne for plotting"
   ]
  },
  {
   "cell_type": "code",
   "execution_count": null,
   "id": "281ee83d",
   "metadata": {},
   "outputs": [],
   "source": [
    "data = epochs.get_data()"
   ]
  },
  {
   "cell_type": "markdown",
   "id": "a5e73336",
   "metadata": {},
   "source": [
    "The data object is 3 dimensional.\n",
    "### Exercise 2:\n",
    "In what order are the dimensions time, channels and number of trials stored in the epochs object?"
   ]
  },
  {
   "cell_type": "code",
   "execution_count": null,
   "id": "f27da082",
   "metadata": {},
   "outputs": [],
   "source": []
  },
  {
   "cell_type": "markdown",
   "id": "84fc2b81",
   "metadata": {},
   "source": [
    "We can plot some single-trail exemplar traces for electrode 0 with the following code snippet:"
   ]
  },
  {
   "cell_type": "code",
   "execution_count": null,
   "id": "263088f8",
   "metadata": {},
   "outputs": [],
   "source": [
    "plt.plot(times, data[14:20,0,:].T)\n",
    "plt.title(\"Exemplar single-trial epoched data, for electrode 0\")\n",
    "plt.ylabel('Volts')\n",
    "plt.xlabel('Time (s)')\n",
    "plt.show()"
   ]
  },
  {
   "cell_type": "markdown",
   "id": "900af26a",
   "metadata": {},
   "source": [
    "### Exercise 3:\n",
    "Plot the last 5 single-trial traces for electrode Cz\n",
    "\n",
    "**Tipp**: We found out above at which index the electrode Cz is located at (Exercise 1)"
   ]
  },
  {
   "cell_type": "code",
   "execution_count": null,
   "id": "b9dff44c",
   "metadata": {},
   "outputs": [],
   "source": []
  },
  {
   "cell_type": "markdown",
   "id": "e1b459cb",
   "metadata": {},
   "source": [
    "## The Evoked Object\n",
    "\n",
    "In neuroscience we oftentime represent the data as averages over multiple trials. In this way we get rid of background noise and can see a neural response clearer. In mne this object is called 'evoked' and can be generated with epochs.average():"
   ]
  },
  {
   "cell_type": "code",
   "execution_count": null,
   "id": "94b5adb3",
   "metadata": {},
   "outputs": [],
   "source": [
    "evoked = epochs.average()"
   ]
  },
  {
   "cell_type": "code",
   "execution_count": null,
   "id": "0016a11c",
   "metadata": {},
   "outputs": [],
   "source": [
    "evoked_data = evoked._data\n",
    "shape_evoked = evoked_data.shape\n",
    "print(f'The evoked has the shape: {shape_evoked} (Channels x Times)')"
   ]
  },
  {
   "cell_type": "markdown",
   "id": "a8ce83d8",
   "metadata": {},
   "source": [
    "### Exercise 4:\n",
    "\n",
    "1st plot the evoked trace for electrode Cz and then the averaged traces for all channels simultaneously"
   ]
  },
  {
   "cell_type": "code",
   "execution_count": null,
   "id": "4849c241",
   "metadata": {
    "scrolled": true
   },
   "outputs": [],
   "source": []
  },
  {
   "cell_type": "code",
   "execution_count": null,
   "id": "6296fb91",
   "metadata": {},
   "outputs": [],
   "source": []
  },
  {
   "cell_type": "markdown",
   "id": "927ea34f",
   "metadata": {},
   "source": [
    "This can be done easier with a function from mne:"
   ]
  },
  {
   "cell_type": "code",
   "execution_count": null,
   "id": "7d5348ad",
   "metadata": {},
   "outputs": [],
   "source": [
    "evoked.plot();"
   ]
  },
  {
   "cell_type": "markdown",
   "id": "c81114fc",
   "metadata": {},
   "source": [
    "### Exercise 5:\n",
    "Plot the averaged traces for both conditions available in the data (*Standard* & *Novel*). These types of figures are called ERP's (event-related potential)"
   ]
  },
  {
   "cell_type": "code",
   "execution_count": null,
   "id": "ab454137",
   "metadata": {},
   "outputs": [],
   "source": []
  },
  {
   "cell_type": "markdown",
   "id": "f532c590",
   "metadata": {},
   "source": [
    "### Exercise 6:\n",
    "With matplotlib (as in Exercise 4) plot at the Cz electrode the traces for both conditions (*Standard* and *Novel*) in the same graph"
   ]
  },
  {
   "cell_type": "code",
   "execution_count": null,
   "id": "3ebe2be6",
   "metadata": {},
   "outputs": [],
   "source": [
    "ep_std = epochs['Standard']\n",
    "ep_nov = epochs['Novel']\n",
    "\n",
    "fig, ax = plt.subplots(figsize=(10, 5), dpi=300)\n",
    "ax.set_xlabel('Time Instances')\n",
    "ax.set_ylabel('Volt')\n",
    "\n",
    "ax.plot(..., color='blue', label='Standard')\n",
    "ax.plot(..., color='red', label='Novel')\n",
    "\n",
    "legend = ax.legend(loc='upper right', shadow=True, fontsize='medium')\n",
    "plt.title('ERP of different conditions')\n",
    "plt.show()"
   ]
  },
  {
   "cell_type": "markdown",
   "id": "b6a3b9be",
   "metadata": {},
   "source": [
    "## Topographic Maps\n",
    "We can use a function from mne to plot the averaged neural data in a topographic map representation. We can specify one or multiple timepoints at which we would like to visualize the activation projected to the scalp."
   ]
  },
  {
   "cell_type": "code",
   "execution_count": null,
   "id": "81473940",
   "metadata": {
    "scrolled": true
   },
   "outputs": [],
   "source": [
    "timepoints = np.arange(0, 0.51, 0.1)\n",
    "epochs.average().plot_topomap(timepoints, ch_type='eeg'); "
   ]
  },
  {
   "cell_type": "markdown",
   "id": "724a1ca9",
   "metadata": {},
   "source": [
    "### Exercise 7:\n",
    "\n",
    "Use the plot_topomap function to visualize the activation for both conditions"
   ]
  },
  {
   "cell_type": "code",
   "execution_count": null,
   "id": "ce6cf0a4",
   "metadata": {},
   "outputs": [],
   "source": []
  },
  {
   "cell_type": "markdown",
   "id": "76480b0a",
   "metadata": {},
   "source": [
    "## Reference\n",
    "This subchapter focuses on references and how much this could influence your data. \n",
    "### Exercise 8:\n",
    "1. Make two copies of the original epochs object (copy.deepcopy(epochs)), called original_1 and original_2\n",
    "2. Set the reference once to 'average' and once to the electrode 'Fz' (epochs.set_eeg_reference(ref)\n",
    "3. Visualize the mean ERP for both of these cases (see Exercise 5)"
   ]
  },
  {
   "cell_type": "code",
   "execution_count": null,
   "id": "fcc530f2",
   "metadata": {},
   "outputs": [],
   "source": [
    "original_1 = \n",
    "original_2 = "
   ]
  },
  {
   "cell_type": "code",
   "execution_count": null,
   "id": "f8f5718a",
   "metadata": {},
   "outputs": [],
   "source": []
  },
  {
   "cell_type": "code",
   "execution_count": null,
   "id": "fdacdf89",
   "metadata": {},
   "outputs": [],
   "source": []
  },
  {
   "cell_type": "markdown",
   "id": "96f223cb",
   "metadata": {},
   "source": [
    "Observe how different the data looks in these two representations. \n",
    "\n",
    "We can also look at the difference in each electrode seperately, here we look at CPz:"
   ]
  },
  {
   "cell_type": "code",
   "execution_count": null,
   "id": "8584940c",
   "metadata": {},
   "outputs": [],
   "source": [
    "references = ['original', 'Oz']\n",
    "channel_CPz = ch_names.index('CPz')\n",
    "\n",
    "#Data with original reference\n",
    "st_1 = original_1['Standard']\n",
    "nv_1 = original_1['Novel']\n",
    "\n",
    "#Data with Oz as the reference channel\n",
    "st_2 = original_2['Standard']\n",
    "nv_2 = original_2['Novel']\n",
    "\n",
    "fig, ax = plt.subplots(figsize=(10, 5),  dpi=300)\n",
    "ax.set_xlabel('Time (s)')\n",
    "ax.set_ylabel('Volt') \n",
    "ax.set_title('ERP values of novel and standard conditions with original reference')\n",
    "ax.plot(st_1.average().get_data()[channel_CPz,:], color='blue', label='Standard')\n",
    "ax.plot(nv_1.average().get_data()[channel_CPz,:], color='red', label='Novel')\n",
    "ax.legend()\n",
    "plt.show()\n",
    "\n",
    "\n",
    "fig, ax = plt.subplots(figsize=(10, 5),  dpi=300)\n",
    "ax.set_xlabel('Time (s)')\n",
    "ax.set_ylabel('Volt') \n",
    "ax.set_title('ERP values of novel and standard conditions with TP8 channel as reference')\n",
    "ax.plot(st_2.average().get_data()[channel_CPz,:], color='blue', label='Standard')\n",
    "ax.plot(nv_2.average().get_data()[channel_CPz,:], color='red', label='Novel')\n",
    "plt.show()"
   ]
  },
  {
   "cell_type": "markdown",
   "id": "6b960601",
   "metadata": {},
   "source": [
    "The following exampe is not scientifically correct and this should not be used. It's purpouse is purely illustrative.\n",
    "\n",
    "Let's test at every time point and every electrode, if the signal of the *Standard* and *Novel* trials are significantly different, with a simple t-test over all single trials. E.g. for electrode 0 and time point 0 we would test:"
   ]
  },
  {
   "cell_type": "code",
   "execution_count": null,
   "id": "c9029198",
   "metadata": {},
   "outputs": [],
   "source": [
    "ttest_ind(original_1['Standard'].get_data()[:,0,0], original_1['Novel'].get_data()[:,0,0])"
   ]
  },
  {
   "cell_type": "markdown",
   "id": "6fec03c7",
   "metadata": {},
   "source": [
    "If the p-value (at the second position) is bellow 0.05 we will consider it significant. \n",
    "Let's copy the evoked structure and replace the data with information about the significance of an electrode, i.e. we replace for the above example \n",
    "test_ep_1[0,0] with 0, as it was non significant.\n",
    "\n",
    "We loop over all time points and electrodes, for the two different references:"
   ]
  },
  {
   "cell_type": "code",
   "execution_count": null,
   "id": "dc8bb241",
   "metadata": {
    "scrolled": true
   },
   "outputs": [],
   "source": [
    "significant_ep_1 = copy.deepcopy(evoked)\n",
    "\n",
    "for i in range(len(times)):\n",
    "    for ch in range(len(ch_names)):\n",
    "        if ttest_ind(original_1['Standard'].get_data()[:,ch,i], \n",
    "                     original_1['Novel'].get_data()[:,ch,i])[1] < 0.05:\n",
    "            significant_ep_1._data[ch, i] = 1\n",
    "        else:\n",
    "            significant_ep_1._data[ch, i] = 0"
   ]
  },
  {
   "cell_type": "code",
   "execution_count": null,
   "id": "e5957f2d",
   "metadata": {
    "scrolled": true
   },
   "outputs": [],
   "source": [
    "significant_ep_2 = copy.deepcopy(evoked)\n",
    "\n",
    "for i in range(301):\n",
    "    for ch in range(60):\n",
    "        if ttest_ind(original_2['Standard'].get_data()[:,ch,i], \n",
    "                     original_2['Novel'].get_data()[:,ch,i])[1] < 0.05:\n",
    "            significant_ep_2._data[ch, i] = 1\n",
    "        else:\n",
    "            significant_ep_2._data[ch, i] = 0"
   ]
  },
  {
   "cell_type": "markdown",
   "id": "1000c9d6",
   "metadata": {},
   "source": [
    "### Exercise 9:\n",
    "Plot the topographic map representation of the two evoked objects, containing information about the significance of electrodes and time points"
   ]
  },
  {
   "cell_type": "code",
   "execution_count": null,
   "id": "7946c0ab",
   "metadata": {
    "scrolled": true
   },
   "outputs": [],
   "source": []
  }
 ],
 "metadata": {
  "kernelspec": {
   "display_name": "Python 3 (ipykernel)",
   "language": "python",
   "name": "python3"
  },
  "language_info": {
   "codemirror_mode": {
    "name": "ipython",
    "version": 3
   },
   "file_extension": ".py",
   "mimetype": "text/x-python",
   "name": "python",
   "nbconvert_exporter": "python",
   "pygments_lexer": "ipython3",
   "version": "3.7.11"
  }
 },
 "nbformat": 4,
 "nbformat_minor": 5
}
