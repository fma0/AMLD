{
 "cells": [
  {
   "cell_type": "markdown",
   "id": "dc90168f",
   "metadata": {},
   "source": [
    "# Part 2: Machine Learning"
   ]
  },
  {
   "cell_type": "code",
   "execution_count": 1,
   "id": "e47d7440",
   "metadata": {},
   "outputs": [],
   "source": [
    "import mne\n",
    "from mne.decoding import Vectorizer, SlidingEstimator, cross_val_multiscore\n",
    "\n",
    "from sklearn.preprocessing import StandardScaler\n",
    "from sklearn.pipeline import make_pipeline\n",
    "from sklearn.model_selection import cross_val_score, train_test_split, GridSearchCV\n",
    "from sklearn.metrics import make_scorer, f1_score, roc_auc_score, auc, accuracy_score, balanced_accuracy_score, precision_recall_fscore_support\n",
    "\n",
    "# Models\n",
    "from sklearn.linear_model import LogisticRegression\n",
    "\n",
    "import matplotlib.pyplot as plt\n",
    "import mne.viz\n",
    "\n",
    "import numpy as np"
   ]
  },
  {
   "cell_type": "markdown",
   "id": "1c60734b",
   "metadata": {},
   "source": [
    "## Loading the data and creating train - test sets"
   ]
  },
  {
   "cell_type": "markdown",
   "id": "7a3f5238",
   "metadata": {},
   "source": [
    "### Exercise 1:\n",
    "\n",
    "Import the same '.fif' file as in 'Part 1: About neural data' and extract the data"
   ]
  },
  {
   "cell_type": "code",
   "execution_count": 2,
   "id": "ca4b04d7",
   "metadata": {},
   "outputs": [],
   "source": [
    "# solution\n",
    "data_file = 'PDDys/902-P'\n",
    "epochs = mne.read_epochs(data_file + '.fif', verbose='error')\n",
    "\n",
    "epochs.filter(l_freq = 0.1, h_freq = 20)\n",
    "epochs.apply_baseline((None, 0))\n",
    "\n",
    "data = epochs.get_data()"
   ]
  },
  {
   "cell_type": "markdown",
   "id": "fb131e67",
   "metadata": {},
   "source": [
    "If we want to extract the labels from the epochs object, we can take a look at epochs.events. This events obejct is a numpy array assaining to each trial a triple where the first number is the event time in samples, with first_samp included. The second number is in most cases zero and can be ignured for this workshop. The third number is the event id, which we are most interessted in.\n",
    "\n",
    "\n",
    "E.g. for the first 10 trials this would look like this:"
   ]
  },
  {
   "cell_type": "code",
   "execution_count": 3,
   "id": "591e9723",
   "metadata": {},
   "outputs": [
    {
     "data": {
      "text/plain": [
       "array([[ 1001,     0,   201],\n",
       "       [ 4188,     0,   201],\n",
       "       [ 6428,     0,   201],\n",
       "       [ 8397,     0,   201],\n",
       "       [12184,     0,   201],\n",
       "       [14113,     0,   201],\n",
       "       [18388,     0,   201],\n",
       "       [20434,     0,   201],\n",
       "       [24309,     0,   201],\n",
       "       [26371,     0,   201]], dtype=int32)"
      ]
     },
     "execution_count": 3,
     "metadata": {},
     "output_type": "execute_result"
    }
   ],
   "source": [
    "epochs.events[:10]"
   ]
  },
  {
   "cell_type": "markdown",
   "id": "782159c7",
   "metadata": {},
   "source": [
    "To check which event ID corresponds to which condtion check epochs.event_id."
   ]
  },
  {
   "cell_type": "code",
   "execution_count": 4,
   "id": "65ecad19",
   "metadata": {},
   "outputs": [
    {
     "data": {
      "text/plain": [
       "{'Standard': 201, 'Novel': 202}"
      ]
     },
     "execution_count": 4,
     "metadata": {},
     "output_type": "execute_result"
    }
   ],
   "source": [
    "epochs.event_id"
   ]
  },
  {
   "cell_type": "markdown",
   "id": "f3433ea2",
   "metadata": {},
   "source": [
    "The labels can be extracted as:"
   ]
  },
  {
   "cell_type": "code",
   "execution_count": 5,
   "id": "8f1b40c4",
   "metadata": {},
   "outputs": [],
   "source": [
    "labels = epochs.events[:,-1]\n",
    "for i in range(len(labels)):\n",
    "    if labels[i] == 201:\n",
    "        labels[i] = 0\n",
    "    else:\n",
    "        labels[i] = 1\n",
    "        "
   ]
  },
  {
   "cell_type": "markdown",
   "id": "b702dd19",
   "metadata": {},
   "source": [
    "### Exercise 2:\n",
    "How many trials are there of each condition?"
   ]
  },
  {
   "cell_type": "code",
   "execution_count": 6,
   "id": "522f9592",
   "metadata": {},
   "outputs": [
    {
     "name": "stdout",
     "output_type": "stream",
     "text": [
      "There are 127 Standard and 27 Novel trials\n"
     ]
    }
   ],
   "source": [
    "# solution \n",
    "print(f'There are {len(np.where(labels == 0)[0])} Standard and {len(np.where(labels == 1)[0])} Novel trials')"
   ]
  },
  {
   "cell_type": "markdown",
   "id": "75f084a3",
   "metadata": {},
   "source": [
    "We first create the train and test sets with a function from sklearn called [train_test_split](https://scikit-learn.org/stable/modules/generated/sklearn.model_selection.train_test_split.html). As arguments give first the data, than the labels. We also set test_size=0.3 and random_state=42"
   ]
  },
  {
   "cell_type": "code",
   "execution_count": 7,
   "id": "21d95e45",
   "metadata": {},
   "outputs": [],
   "source": [
    "# solution\n",
    "train_data, test_data, labels_train, labels_test = train_test_split(data, labels, test_size=0.2, \n",
    "                                                                    random_state=42)\n"
   ]
  },
  {
   "cell_type": "markdown",
   "id": "ce633ca9",
   "metadata": {},
   "source": [
    "### Exercise 3:\n",
    "What are the dimensions fo the train and test datasets?"
   ]
  },
  {
   "cell_type": "code",
   "execution_count": 8,
   "id": "e3a7be87",
   "metadata": {},
   "outputs": [
    {
     "name": "stdout",
     "output_type": "stream",
     "text": [
      "The test set has a size of (31, 60, 301)\n",
      "The test set has a size of (123, 60, 301)\n"
     ]
    }
   ],
   "source": [
    "# solution\n",
    "print(f'The test set has a size of {test_data.shape}')\n",
    "print(f'The test set has a size of {train_data.shape}')"
   ]
  },
  {
   "cell_type": "markdown",
   "id": "36d5828c",
   "metadata": {},
   "source": [
    "## Creating a pipeline and fitting a first classifier"
   ]
  },
  {
   "cell_type": "markdown",
   "id": "44ade3af",
   "metadata": {},
   "source": [
    "Next, we will construct a pipeline for classification with the function [make_pipeline()](https://scikit-learn.org/stable/modules/generated/sklearn.pipeline.make_pipeline.html) of the sklearn library. We want to execute the following steps:\n",
    "1. We need to transform the EEG data from (n_epochs, n_channels, n_times) to (n_samples, n_features), as the classifier that we are going to use here is working with two dimensional input. This can be achieved with the [Vectorizer()](https://mne.tools/stable/generated/mne.decoding.Vectorizer.html) function of mne.\n",
    "2. Standardize our data, to compensate for differences in power of the EEG. I.e. we substract the mean ($\\mu$) from our original data ($x$) and devide by the standard deviation ($\\sigma$) to get the standardized data $z$: $z = (x - \\mu) / \\sigma$. \\n This can be achieved with the [StandardScaler()](https://scikit-learn.org/stable/modules/generated/sklearn.preprocessing.StandardScaler.html) function of mne. \n",
    "\n",
    "3. The last step will be the machine learning algorithm used for classification. We will use [Logistic Regression](https://scikit-learn.org/stable/modules/generated/sklearn.linear_model.LogisticRegression.html#sklearn.linear_model.LogisticRegression.fit), with C=1 and penalty='l2. \n",
    "\n",
    "\n",
    "The final pipeline will look like this (where the order of functions again is very important):"
   ]
  },
  {
   "cell_type": "code",
   "execution_count": 9,
   "id": "a3d5876d",
   "metadata": {},
   "outputs": [],
   "source": [
    "clf = make_pipeline(Vectorizer(), StandardScaler(), LogisticRegression(solver='liblinear', random_state=42, \n",
    "                                                                       penalty='l2', C=1))"
   ]
  },
  {
   "cell_type": "markdown",
   "id": "225b18ba",
   "metadata": {},
   "source": [
    "Now we have everythin ready and can fit our classifier with the training data:"
   ]
  },
  {
   "cell_type": "code",
   "execution_count": 10,
   "id": "65486a24",
   "metadata": {},
   "outputs": [
    {
     "data": {
      "text/plain": [
       "Pipeline(steps=[('vectorizer',\n",
       "                 <mne.decoding.transformer.Vectorizer object at 0x7f9e06cdf210>),\n",
       "                ('standardscaler', StandardScaler()),\n",
       "                ('logisticregression',\n",
       "                 LogisticRegression(C=1, random_state=42, solver='liblinear'))])"
      ]
     },
     "execution_count": 10,
     "metadata": {},
     "output_type": "execute_result"
    }
   ],
   "source": [
    "clf.fit(train_data, labels_train)"
   ]
  },
  {
   "cell_type": "markdown",
   "id": "498fa926",
   "metadata": {},
   "source": [
    "After training the classifier we evaluate the performance, first on the train set, by calculating the predicted labels for the train_data"
   ]
  },
  {
   "cell_type": "code",
   "execution_count": 11,
   "id": "b65a4db6",
   "metadata": {},
   "outputs": [
    {
     "data": {
      "text/plain": [
       "array([0, 0, 0, 1, 1, 0, 0, 0, 0, 0, 0, 1, 0, 0, 0, 0, 0, 0, 0, 0, 0, 1,\n",
       "       0, 1, 0, 0, 0, 0, 0, 0, 1, 0, 0, 0, 0, 0, 0, 0, 0, 0, 0, 0, 0, 0,\n",
       "       1, 1, 0, 0, 0, 0, 0, 0, 0, 0, 1, 0, 0, 0, 1, 0, 0, 0, 0, 0, 0, 0,\n",
       "       0, 0, 0, 0, 0, 0, 1, 1, 0, 0, 0, 0, 1, 0, 0, 0, 0, 1, 0, 0, 0, 0,\n",
       "       0, 0, 0, 0, 0, 0, 0, 1, 0, 1, 0, 0, 0, 0, 0, 1, 1, 0, 1, 0, 0, 1,\n",
       "       0, 0, 0, 0, 0, 0, 1, 0, 0, 0, 0, 0, 0], dtype=int32)"
      ]
     },
     "execution_count": 11,
     "metadata": {},
     "output_type": "execute_result"
    }
   ],
   "source": [
    "clf.predict(train_data)"
   ]
  },
  {
   "cell_type": "markdown",
   "id": "641d66aa",
   "metadata": {},
   "source": [
    "But it is easier, to use the function from sklearn to directly get the score"
   ]
  },
  {
   "cell_type": "code",
   "execution_count": 12,
   "id": "ad4c6f1e",
   "metadata": {},
   "outputs": [
    {
     "data": {
      "text/plain": [
       "1.0"
      ]
     },
     "execution_count": 12,
     "metadata": {},
     "output_type": "execute_result"
    }
   ],
   "source": [
    "clf.score(train_data, labels_train)"
   ]
  },
  {
   "cell_type": "markdown",
   "id": "c12a7137",
   "metadata": {},
   "source": [
    "### Exercise 4: \n",
    "The score for the train set is quite amazing. What is the classification score on the test dataset? "
   ]
  },
  {
   "cell_type": "code",
   "execution_count": 13,
   "id": "b19118b5",
   "metadata": {
    "scrolled": true
   },
   "outputs": [
    {
     "data": {
      "text/plain": [
       "0.4838709677419355"
      ]
     },
     "execution_count": 13,
     "metadata": {},
     "output_type": "execute_result"
    }
   ],
   "source": [
    "# solution\n",
    "clf.score(test_data, labels_test)"
   ]
  },
  {
   "cell_type": "markdown",
   "id": "9e6f0875",
   "metadata": {},
   "source": [
    "As it was mentioned in the lecture, it is not very good to only do this once, on a single split of the data. So we would need to do the data spliting, fitting the classifers and evaluation multiple times. \n",
    "In stead we can also use a function from sklearn called [cross_val_score](https://scikit-learn.org/stable/modules/generated/sklearn.model_selection.cross_val_score.html#sklearn.model_selection.cross_val_score) on the full data and labels, which does split the data multiple times (the number is given with the cv parameter) and calculates the scores automatically"
   ]
  },
  {
   "cell_type": "code",
   "execution_count": 14,
   "id": "2c3d8450",
   "metadata": {},
   "outputs": [
    {
     "name": "stdout",
     "output_type": "stream",
     "text": [
      "Accuracy of 0th fold is  0.64\n",
      "\n",
      "Accuracy of 1th fold is  0.68\n",
      "\n",
      "Accuracy of 2th fold is  0.64\n",
      "\n",
      "Accuracy of 3th fold is  0.42\n",
      "\n",
      "Accuracy of 4th fold is  0.54\n",
      "\n"
     ]
    }
   ],
   "source": [
    "clf_cv = make_pipeline(Vectorizer(), StandardScaler(), LogisticRegression(solver='liblinear', \n",
    "                                                                          random_state=42, \n",
    "                                                                          penalty='l2', C=1))\n",
    "scores = cross_val_score(clf_cv, train_data, labels_train, cv=5)\n",
    "for i in range(len(scores)):   \n",
    "    print(f'Accuracy of {i}th fold is {scores[i] : .2f}\\n')"
   ]
  },
  {
   "cell_type": "markdown",
   "id": "faa846d8",
   "metadata": {},
   "source": [
    "## Optimizing the classifier"
   ]
  },
  {
   "cell_type": "markdown",
   "id": "a643f81d",
   "metadata": {},
   "source": [
    "In the above paradigm we just used a default implementation of Logistic Regression with a 'l2' metric and a hyperparameter C set to 1. Now we will estimate the parameters through exhaustive [Grid Search](https://scikit-learn.org/stable/modules/generated/sklearn.model_selection.GridSearchCV.html), these parameters are oftentimes called hyperparameters.\n",
    "\n",
    "'GridSearchCV' exhaustively tests candidate models from a grid of parameter values specified in the following form:"
   ]
  },
  {
   "cell_type": "code",
   "execution_count": 15,
   "id": "bac6aec7",
   "metadata": {},
   "outputs": [],
   "source": [
    "parameters = {'penalty' : ['l1', 'l2'], 'C' : [1, 10, 100]}"
   ]
  },
  {
   "cell_type": "markdown",
   "id": "4bbc6771",
   "metadata": {},
   "source": [
    "We include the Grid Search in the pipeline, in stead of Logistic Regression. The GridSearch object will take the classifier as an argument. And as you can see we also give again the cv argument, such that the parameters above can be evaluated on multiple different splits. "
   ]
  },
  {
   "cell_type": "code",
   "execution_count": 16,
   "id": "adc78be6",
   "metadata": {},
   "outputs": [],
   "source": [
    "clf_opt = make_pipeline(Vectorizer(), StandardScaler(), GridSearchCV(LogisticRegression(solver='liblinear', \n",
    "                                                                                        random_state=42), \n",
    "                                                                     parameters, cv=5))"
   ]
  },
  {
   "cell_type": "code",
   "execution_count": 17,
   "id": "fc21bc8a",
   "metadata": {},
   "outputs": [
    {
     "data": {
      "text/plain": [
       "Pipeline(steps=[('vectorizer',\n",
       "                 <mne.decoding.transformer.Vectorizer object at 0x7f9e06cdfa50>),\n",
       "                ('standardscaler', StandardScaler()),\n",
       "                ('gridsearchcv',\n",
       "                 GridSearchCV(cv=5,\n",
       "                              estimator=LogisticRegression(random_state=42,\n",
       "                                                           solver='liblinear'),\n",
       "                              param_grid={'C': [1, 10, 100],\n",
       "                                          'penalty': ['l1', 'l2']}))])"
      ]
     },
     "execution_count": 17,
     "metadata": {},
     "output_type": "execute_result"
    }
   ],
   "source": [
    "clf_opt.fit(train_data, labels_train)"
   ]
  },
  {
   "cell_type": "markdown",
   "id": "ee2327a8",
   "metadata": {},
   "source": [
    "As before we can asses the performance of the train set with:"
   ]
  },
  {
   "cell_type": "code",
   "execution_count": 18,
   "id": "e5cc1ad7",
   "metadata": {},
   "outputs": [
    {
     "data": {
      "text/plain": [
       "1.0"
      ]
     },
     "execution_count": 18,
     "metadata": {},
     "output_type": "execute_result"
    }
   ],
   "source": [
    "clf_opt.score(train_data, labels_train)"
   ]
  },
  {
   "cell_type": "markdown",
   "id": "ec9b57ac",
   "metadata": {},
   "source": [
    "### Exercise 5:\n",
    "What is the performance of the optimized classifier on the test set? Is this better then the one we used before?"
   ]
  },
  {
   "cell_type": "code",
   "execution_count": 19,
   "id": "e2061403",
   "metadata": {},
   "outputs": [
    {
     "data": {
      "text/plain": [
       "0.8064516129032258"
      ]
     },
     "execution_count": 19,
     "metadata": {},
     "output_type": "execute_result"
    }
   ],
   "source": [
    "clf_opt.score(test_data, labels_test)"
   ]
  },
  {
   "cell_type": "markdown",
   "id": "16724f75",
   "metadata": {},
   "source": [
    "We can extract the optimized parameters through:"
   ]
  },
  {
   "cell_type": "code",
   "execution_count": 20,
   "id": "6a8b54e1",
   "metadata": {},
   "outputs": [
    {
     "data": {
      "text/plain": [
       "{'C': 1, 'penalty': 'l1'}"
      ]
     },
     "execution_count": 20,
     "metadata": {},
     "output_type": "execute_result"
    }
   ],
   "source": [
    "tmp = clf_opt.steps[-1][1]\n",
    "tmp.best_params_"
   ]
  },
  {
   "cell_type": "markdown",
   "id": "817570c3",
   "metadata": {},
   "source": [
    "Please note, that this is only working on a classifier trained specifically. You can not extract the best parameters from the cross_val_score function."
   ]
  },
  {
   "cell_type": "markdown",
   "id": "7454b747",
   "metadata": {},
   "source": [
    "## A short note on Bias"
   ]
  },
  {
   "cell_type": "markdown",
   "id": "63ce2d50",
   "metadata": {},
   "source": [
    "What is the level of chance for the data that we are using?\n",
    "\n",
    "*Standard* has 127 trials and *Novel* has 27, which means that for a classifier always predicting *Standard* we get an accuracy of 127/(127+27) = 0.82! Which is higher than some of the values we got above in Exercise 7.\n",
    "\n",
    "This means that for some cases, where we have extreamly unbalanced datasets, using accuracy to keep track of your performance is not an appropriate choice. We could for example use the [f1-score](https://en.wikipedia.org/wiki/F-score). For the above naive classifier the f1-score would be 0.\n",
    "\n",
    "Let's check out the performance of our classifer:"
   ]
  },
  {
   "cell_type": "code",
   "execution_count": 21,
   "id": "35038fce",
   "metadata": {},
   "outputs": [
    {
     "name": "stdout",
     "output_type": "stream",
     "text": [
      "[0 0 0 1 1 0 0 0 0 0 0 1 0 0 0 0 0 0 0 0 0 1 0 1 0 0 0 0 0 0 1 0 0 0 0 0 0\n",
      " 0 0 0 0 0 0 0 1 1 0 0 0 0 0 0 0 0 1 0 0 0 1 0 0 0 0 0 0 0 0 0 0 0 0 0 1 1\n",
      " 0 0 0 0 1 0 0 0 0 1 0 0 0 0 0 0 0 0 0 0 0 1 0 1 0 0 0 0 0 1 1 0 1 0 0 1 0\n",
      " 0 0 0 0 0 1 0 0 0 0 0 0]\n"
     ]
    },
    {
     "data": {
      "text/plain": [
       "1.0"
      ]
     },
     "execution_count": 21,
     "metadata": {},
     "output_type": "execute_result"
    }
   ],
   "source": [
    "prediction = clf_opt.predict(train_data)\n",
    "\n",
    "f1_score(labels_train, prediction)"
   ]
  },
  {
   "cell_type": "markdown",
   "id": "f8824400",
   "metadata": {},
   "source": [
    "### Exercise 6:\n",
    "What is the f1-score of the optimized classifier on the test set?"
   ]
  },
  {
   "cell_type": "code",
   "execution_count": 22,
   "id": "b14bd3d3",
   "metadata": {},
   "outputs": [
    {
     "name": "stdout",
     "output_type": "stream",
     "text": [
      "[0 1 1 0 1 0 0 0 0 0 0 0 0 1 0 0 0 0 0 0 0 0 0 0 0 0 0 0 0 0 0]\n"
     ]
    },
    {
     "data": {
      "text/plain": [
       "0.4"
      ]
     },
     "execution_count": 22,
     "metadata": {},
     "output_type": "execute_result"
    }
   ],
   "source": [
    "# solution\n",
    "prediction = clf_opt.predict(test_data)\n",
    "\n",
    "f1_score(labels_test, prediction)"
   ]
  },
  {
   "cell_type": "markdown",
   "id": "c658cc65",
   "metadata": {},
   "source": [
    "## Sliding Estimator"
   ]
  },
  {
   "cell_type": "markdown",
   "id": "94ed3ceb",
   "metadata": {},
   "source": [
    "In the steps above we were still evaluating a rather simplified version of our data, where we did not considered the temporal structure of EEG data. But considered all time points and electrodes simultaneously.  Now we will take the temporal dimension into account as well and will evaluate how classification accuracy changes across time. For this we will use the [SlidingEstimator](https://mne.tools/stable/generated/mne.decoding.SlidingEstimator.html) of mne:"
   ]
  },
  {
   "cell_type": "code",
   "execution_count": null,
   "id": "67974ef1",
   "metadata": {},
   "outputs": [],
   "source": [
    "clf = make_pipeline(Vectorizer(), StandardScaler(), LogisticRegression(solver='liblinear', random_state=13, \n",
    "                                                                       penalty='l1', C=1))\n",
    "\n",
    "sl = SlidingEstimator(clf) # we apply the sliding estimator to 'clf'"
   ]
  },
  {
   "cell_type": "markdown",
   "id": "846ac039",
   "metadata": {},
   "source": [
    "Next we are using [cross_val_multiscore](https://mne.tools/stable/generated/mne.decoding.cross_val_multiscore.html) to evaluate the SlidingEstimator at every timpoint in a cross validation way.\n",
    "\n",
    "As we saw above, it is best to use another metric than accuracy for evaluation. Here again we are using the f1-score, which is why we need a special work around, that can be ignored. "
   ]
  },
  {
   "cell_type": "code",
   "execution_count": 28,
   "id": "a9c181d6",
   "metadata": {},
   "outputs": [],
   "source": [
    "def metric_workaround(y_true, y_pred):\n",
    "    return [f1_score(y_true, y_pred[:,i]) for i in range(len(epochs.times))]"
   ]
  },
  {
   "cell_type": "code",
   "execution_count": 29,
   "id": "decfdf92",
   "metadata": {},
   "outputs": [
    {
     "data": {
      "application/vnd.jupyter.widget-view+json": {
       "model_id": "2dd7230822194b79aad26a5c3f521a1f",
       "version_major": 2,
       "version_minor": 0
      },
      "text/plain": [
       "HBox(children=(FloatProgress(value=0.0, description='Fitting SlidingEstimator', max=301.0, style=ProgressStyle…"
      ]
     },
     "metadata": {},
     "output_type": "display_data"
    },
    {
     "name": "stdout",
     "output_type": "stream",
     "text": [
      "\n"
     ]
    },
    {
     "data": {
      "application/vnd.jupyter.widget-view+json": {
       "model_id": "7166f0461eb94253b839f0d7c62d99a3",
       "version_major": 2,
       "version_minor": 0
      },
      "text/plain": [
       "HBox(children=(FloatProgress(value=0.0, description='Transforming SlidingEstimator', max=301.0, style=Progress…"
      ]
     },
     "metadata": {},
     "output_type": "display_data"
    },
    {
     "name": "stdout",
     "output_type": "stream",
     "text": [
      "\n"
     ]
    },
    {
     "data": {
      "application/vnd.jupyter.widget-view+json": {
       "model_id": "cff354ecc60a46f3aec4d2822f765b62",
       "version_major": 2,
       "version_minor": 0
      },
      "text/plain": [
       "HBox(children=(FloatProgress(value=0.0, description='Fitting SlidingEstimator', max=301.0, style=ProgressStyle…"
      ]
     },
     "metadata": {},
     "output_type": "display_data"
    },
    {
     "name": "stdout",
     "output_type": "stream",
     "text": [
      "\n"
     ]
    },
    {
     "data": {
      "application/vnd.jupyter.widget-view+json": {
       "model_id": "330ff3d9485b4a9c9ac2d359f6c4acda",
       "version_major": 2,
       "version_minor": 0
      },
      "text/plain": [
       "HBox(children=(FloatProgress(value=0.0, description='Transforming SlidingEstimator', max=301.0, style=Progress…"
      ]
     },
     "metadata": {},
     "output_type": "display_data"
    },
    {
     "name": "stdout",
     "output_type": "stream",
     "text": [
      "\n"
     ]
    },
    {
     "data": {
      "application/vnd.jupyter.widget-view+json": {
       "model_id": "d23eb2366a1140519d4212e1e0faff34",
       "version_major": 2,
       "version_minor": 0
      },
      "text/plain": [
       "HBox(children=(FloatProgress(value=0.0, description='Fitting SlidingEstimator', max=301.0, style=ProgressStyle…"
      ]
     },
     "metadata": {},
     "output_type": "display_data"
    },
    {
     "name": "stdout",
     "output_type": "stream",
     "text": [
      "\n"
     ]
    },
    {
     "data": {
      "application/vnd.jupyter.widget-view+json": {
       "model_id": "ba2c523119674cb2bd2efa6c8c2d5fd6",
       "version_major": 2,
       "version_minor": 0
      },
      "text/plain": [
       "HBox(children=(FloatProgress(value=0.0, description='Transforming SlidingEstimator', max=301.0, style=Progress…"
      ]
     },
     "metadata": {},
     "output_type": "display_data"
    },
    {
     "name": "stdout",
     "output_type": "stream",
     "text": [
      "\n"
     ]
    },
    {
     "data": {
      "application/vnd.jupyter.widget-view+json": {
       "model_id": "8b595d6a2e4e43ebb3559ebdc550abb4",
       "version_major": 2,
       "version_minor": 0
      },
      "text/plain": [
       "HBox(children=(FloatProgress(value=0.0, description='Fitting SlidingEstimator', max=301.0, style=ProgressStyle…"
      ]
     },
     "metadata": {},
     "output_type": "display_data"
    },
    {
     "name": "stdout",
     "output_type": "stream",
     "text": [
      "\n"
     ]
    },
    {
     "data": {
      "application/vnd.jupyter.widget-view+json": {
       "model_id": "3270b39bf2b64fd1a9f1023b0045a03d",
       "version_major": 2,
       "version_minor": 0
      },
      "text/plain": [
       "HBox(children=(FloatProgress(value=0.0, description='Transforming SlidingEstimator', max=301.0, style=Progress…"
      ]
     },
     "metadata": {},
     "output_type": "display_data"
    },
    {
     "name": "stdout",
     "output_type": "stream",
     "text": [
      "\n"
     ]
    },
    {
     "data": {
      "application/vnd.jupyter.widget-view+json": {
       "model_id": "4d2dcafbd4b64d7eab7006a57041e047",
       "version_major": 2,
       "version_minor": 0
      },
      "text/plain": [
       "HBox(children=(FloatProgress(value=0.0, description='Fitting SlidingEstimator', max=301.0, style=ProgressStyle…"
      ]
     },
     "metadata": {},
     "output_type": "display_data"
    },
    {
     "name": "stdout",
     "output_type": "stream",
     "text": [
      "\n"
     ]
    },
    {
     "data": {
      "application/vnd.jupyter.widget-view+json": {
       "model_id": "590f68b5e0f3415686f87d7cc86d1521",
       "version_major": 2,
       "version_minor": 0
      },
      "text/plain": [
       "HBox(children=(FloatProgress(value=0.0, description='Transforming SlidingEstimator', max=301.0, style=Progress…"
      ]
     },
     "metadata": {},
     "output_type": "display_data"
    },
    {
     "name": "stdout",
     "output_type": "stream",
     "text": [
      "\n"
     ]
    }
   ],
   "source": [
    "cv_score_time = cross_val_multiscore(sl, data, labels, cv=5, scoring=make_scorer(metric_workaround))"
   ]
  },
  {
   "cell_type": "markdown",
   "id": "f4870ca0",
   "metadata": {},
   "source": [
    "### Exercise 8:\n",
    "What are the dimensions of the classification scores? What do they represent?"
   ]
  },
  {
   "cell_type": "code",
   "execution_count": 30,
   "id": "4c42d82f",
   "metadata": {},
   "outputs": [
    {
     "name": "stdout",
     "output_type": "stream",
     "text": [
      "The scores now have the shape (5, 301), which represents the (Number of cv folds) x (Time)\n"
     ]
    }
   ],
   "source": [
    "# solution\n",
    "print(f'The scores now have the shape {cv_score_time.shape}, which represents the (Number of cv folds) x (Time)')"
   ]
  },
  {
   "cell_type": "markdown",
   "id": "5b0406ba",
   "metadata": {},
   "source": [
    "We can now plot the classification accuracies across time:"
   ]
  },
  {
   "cell_type": "code",
   "execution_count": 31,
   "id": "a7cd3c21",
   "metadata": {},
   "outputs": [
    {
     "data": {
      "image/png": "[encoded data removed]",
      "text/plain": [
       "<Figure size 720x360 with 1 Axes>"
      ]
     },
     "metadata": {
      "needs_background": "light"
     },
     "output_type": "display_data"
    }
   ],
   "source": [
    "fig, ax = plt.subplots(figsize=(10, 5))\n",
    "ax.set_xlabel('Time (s)')\n",
    "ax.set_ylabel('Accuracy') \n",
    "ax.set_title('Decoding performance over time')\n",
    "ax.plot(epochs.times, cv_score_time.T)\n",
    "plt.show()"
   ]
  },
  {
   "cell_type": "markdown",
   "id": "b5e46d7c",
   "metadata": {},
   "source": [
    "### Exercise 9:\n",
    "Plot the mean classification accuracy over the CV folds as a function of time.\n"
   ]
  },
  {
   "cell_type": "code",
   "execution_count": 32,
   "id": "6a71f219",
   "metadata": {},
   "outputs": [
    {
     "data": {
      "image/png": "[encoded data removed]",
      "text/plain": [
       "<Figure size 720x360 with 1 Axes>"
      ]
     },
     "metadata": {
      "needs_background": "light"
     },
     "output_type": "display_data"
    }
   ],
   "source": [
    "# solution\n",
    "fig, ax = plt.subplots(figsize=(10, 5))\n",
    "ax.set_xlabel('Time (s)')\n",
    "ax.set_ylabel('Accuracy') \n",
    "ax.set_title('Decoding performance over time')\n",
    "ax.plot(epochs.times, cv_score_time.mean(axis=0))\n",
    "plt.show()"
   ]
  },
  {
   "cell_type": "code",
   "execution_count": null,
   "id": "712e3ee8",
   "metadata": {},
   "outputs": [],
   "source": []
  },
  {
   "cell_type": "markdown",
   "id": "6711c546",
   "metadata": {},
   "source": [
    "Little projects:\n",
    " - decode identity\n",
    " - bias in the data (reference)\n",
    " - different filters\n",
    " - different ML classifiers"
   ]
  },
  {
   "cell_type": "markdown",
   "id": "5bd67fe6",
   "metadata": {},
   "source": [
    "Get unfiltered data"
   ]
  },
  {
   "cell_type": "markdown",
   "id": "e4d69524",
   "metadata": {},
   "source": [
    "Examples on two different dataset -> can choose which one, compare performance, 3 way classification for visual, pleasant vs. unpleasant vs. neutral / familiar vs. novel"
   ]
  },
  {
   "cell_type": "code",
   "execution_count": null,
   "id": "a4604ee7",
   "metadata": {},
   "outputs": [],
   "source": []
  }
 ],
 "metadata": {
  "kernelspec": {
   "display_name": "Python 3 (ipykernel)",
   "language": "python",
   "name": "python3"
  },
  "language_info": {
   "codemirror_mode": {
    "name": "ipython",
    "version": 3
   },
   "file_extension": ".py",
   "mimetype": "text/x-python",
   "name": "python",
   "nbconvert_exporter": "python",
   "pygments_lexer": "ipython3",
   "version": "3.7.11"
  }
 },
 "nbformat": 4,
 "nbformat_minor": 5
}
