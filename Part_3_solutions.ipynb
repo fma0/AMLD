{
 "cells": [
  {
   "cell_type": "markdown",
   "id": "e4aea3ae",
   "metadata": {},
   "source": [
    "# Part 3: Neural Networks for Neural Data of a single Participant"
   ]
  },
  {
   "cell_type": "markdown",
   "id": "3b6bb4d8",
   "metadata": {},
   "source": [
    "First we load the necessary libraries"
   ]
  },
  {
   "cell_type": "code",
   "execution_count": 1,
   "id": "6e54403f",
   "metadata": {},
   "outputs": [
    {
     "name": "stdout",
     "output_type": "stream",
     "text": [
      "Requirement already satisfied: mne in /Users/fma/opt/anaconda3/envs/tensorflow_mne/lib/python3.7/site-packages (0.24.1)\r\n",
      "Requirement already satisfied: numpy>=1.15.4 in /Users/fma/opt/anaconda3/envs/tensorflow_mne/lib/python3.7/site-packages (from mne) (1.21.5)\r\n",
      "Requirement already satisfied: scipy>=1.1.0 in /Users/fma/opt/anaconda3/envs/tensorflow_mne/lib/python3.7/site-packages (from mne) (1.7.3)\r\n"
     ]
    }
   ],
   "source": [
    "! pip install mne\n",
    "import mne\n",
    "import matplotlib.pyplot as plt\n",
    "import numpy as np\n",
    "import tensorflow as tf\n",
    "from sklearn.model_selection import train_test_split\n",
    "from tensorflow.keras.utils import to_categorical\n",
    "from sklearn.metrics import f1_score, classification_report, accuracy_score, precision_recall_fscore_support"
   ]
  },
  {
   "cell_type": "markdown",
   "id": "a0e8437b",
   "metadata": {},
   "source": [
    "### Exercise 1: \n",
    "Training the first neural network on patient 902\n",
    "\n",
    "1. Load the .fif file that we used before. \n",
    "2. Extract the data and labels\n",
    "3. As descibed in the lecture we need to normalize the data (**Tip**: Each trial seperately, and with the function normalize, given bellow)\n",
    "4. We should use one-hot encoded labels, we can use the function '[to_categorical](https://www.tensorflow.org/api_docs/python/tf/keras/utils/to_categorical)' from tensorflow.keras.utils"
   ]
  },
  {
   "cell_type": "code",
   "execution_count": 2,
   "id": "779e04ff",
   "metadata": {},
   "outputs": [],
   "source": [
    "def normalize(volume):\n",
    "    # input a single trial, of the shape (Channels) x (Time)\n",
    "    stdev = np.std(volume, dtype=np.float64)\n",
    "    mean = np.mean(volume, dtype=np.float64)\n",
    "    return (volume - np.float32(mean)) / np.float32(stdev)"
   ]
  },
  {
   "cell_type": "code",
   "execution_count": 3,
   "id": "f7cc0b12",
   "metadata": {},
   "outputs": [],
   "source": [
    "# solution\n",
    "data_file = 'https://github.com/fma0/AMLD/blob/main/902-P'\n",
    "data_file = '902-P'\n",
    "epochs = mne.read_epochs(data_file + '.fif', verbose='error')\n",
    "\n",
    "data = epochs.get_data()\n",
    "labels = np.where(epochs.events[:,-1] == 201, 0, 1)\n",
    "labels = to_categorical(labels)\n",
    "for i, sample in enumerate(data):\n",
    "    data[i] = normalize(sample)"
   ]
  },
  {
   "cell_type": "markdown",
   "id": "ba3c4e2d",
   "metadata": {},
   "source": [
    "Convolutional neural networks have been traditionally used on images, with 3 dimensions: (X-axis) x (Y-axis) x (color channels). There we don't have multiple channels, which means we just expand the data in the last dimension such that the data shape then is (Channels) x (Time) x (1):"
   ]
  },
  {
   "cell_type": "code",
   "execution_count": 4,
   "id": "673f5db1",
   "metadata": {},
   "outputs": [
    {
     "name": "stdout",
     "output_type": "stream",
     "text": [
      "(154, 60, 301, 1)\n"
     ]
    }
   ],
   "source": [
    "data = np.expand_dims(data, axis=-1)\n",
    "print(data.shape)"
   ]
  },
  {
   "cell_type": "markdown",
   "id": "752bf94a",
   "metadata": {},
   "source": [
    "### Exercise 2:\n",
    "Create the train and test data sets with the train_test_split as in 'Part 2: Machine Learning'"
   ]
  },
  {
   "cell_type": "code",
   "execution_count": 5,
   "id": "4d5ea11a",
   "metadata": {},
   "outputs": [],
   "source": [
    "# solution\n",
    "train_data, test_data, labels_train, labels_test = train_test_split(data, labels, \n",
    "                                                                    test_size=0.2, \n",
    "                                                                    random_state=42)\n"
   ]
  },
  {
   "cell_type": "markdown",
   "id": "965702c2",
   "metadata": {},
   "source": [
    "Now let's define the model, it takes as input : the number of classes, the number of recorded EEG channels and the number of time points per trial.\n",
    "\n",
    "We are using EEGNet, which was developped by [Lawhern et. al. (2017)](https://github.com/vlawhern/arl-eegmodels)"
   ]
  },
  {
   "cell_type": "markdown",
   "id": "167f3419",
   "metadata": {},
   "source": [
    "### Exercise 3:\n",
    "Define these three variables:"
   ]
  },
  {
   "cell_type": "code",
   "execution_count": 6,
   "id": "9dcfa75e",
   "metadata": {},
   "outputs": [],
   "source": [
    "tf.random.set_seed(42)"
   ]
  },
  {
   "cell_type": "markdown",
   "id": "08d4c5a3",
   "metadata": {},
   "source": [
    "Move EEGNet to external file, and see how to get it with git"
   ]
  },
  {
   "cell_type": "code",
   "execution_count": 7,
   "id": "88ad1e28",
   "metadata": {},
   "outputs": [],
   "source": [
    "from tensorflow.keras.models import Model\n",
    "from tensorflow.keras.layers import Dense, Activation, Permute, Dropout\n",
    "from tensorflow.keras.layers import Conv2D, MaxPooling2D, AveragePooling2D\n",
    "from tensorflow.keras.layers import SeparableConv2D, DepthwiseConv2D\n",
    "from tensorflow.keras.layers import BatchNormalization\n",
    "from tensorflow.keras.layers import SpatialDropout2D\n",
    "from tensorflow.keras.regularizers import l1_l2\n",
    "from tensorflow.keras.layers import Input, Flatten\n",
    "from tensorflow.keras.constraints import max_norm\n",
    "from tensorflow.keras import backend as K"
   ]
  },
  {
   "cell_type": "code",
   "execution_count": 8,
   "id": "6bb21ed2",
   "metadata": {},
   "outputs": [],
   "source": [
    "def EEGNet(nb_classes, Chans = 64, Samples = 128, \n",
    "             dropoutRate = 0.5, kernLength = 64, F1 = 8, \n",
    "             D = 2, F2 = 16, norm_rate = 0.25, dropoutType = 'Dropout'):\n",
    "    if dropoutType == 'SpatialDropout2D':\n",
    "        dropoutType = SpatialDropout2D\n",
    "    elif dropoutType == 'Dropout':\n",
    "        dropoutType = Dropout\n",
    "    else:\n",
    "        raise ValueError('dropoutType must be one of SpatialDropout2D '\n",
    "                         'or Dropout, passed as a string.')\n",
    "    \n",
    "    input1   = Input(shape = (Chans, Samples, 1))\n",
    "\n",
    "    block1       = Conv2D(F1, (1, kernLength), padding = 'same',\n",
    "                                   input_shape = (Chans, Samples, 1),\n",
    "                                   use_bias = False)(input1)\n",
    "    block1       = BatchNormalization()(block1)\n",
    "    block1       = DepthwiseConv2D((Chans, 1), use_bias = False, \n",
    "                                   depth_multiplier = D,\n",
    "                                   depthwise_constraint = max_norm(1.))(block1)\n",
    "    block1       = BatchNormalization()(block1)\n",
    "    block1       = Activation('elu')(block1)\n",
    "    block1       = AveragePooling2D((1, 4))(block1)\n",
    "    block1       = dropoutType(dropoutRate)(block1)\n",
    "    \n",
    "    block2       = SeparableConv2D(F2, (1, 16),\n",
    "                                   use_bias = False, padding = 'same')(block1)\n",
    "    block2       = BatchNormalization()(block2)\n",
    "    block2       = Activation('elu')(block2)\n",
    "    block2       = AveragePooling2D((1, 8))(block2)\n",
    "    block2       = dropoutType(dropoutRate)(block2)\n",
    "        \n",
    "    flatten      = Flatten(name = 'flatten')(block2)\n",
    "    \n",
    "    dense        = Dense(nb_classes, name = 'dense', \n",
    "                         kernel_constraint = max_norm(norm_rate))(flatten)\n",
    "    softmax      = Activation('softmax', name = 'softmax')(dense)\n",
    "    \n",
    "    return Model(inputs=input1, outputs=softmax)"
   ]
  },
  {
   "cell_type": "code",
   "execution_count": 9,
   "id": "0b11342c",
   "metadata": {},
   "outputs": [],
   "source": [
    "# solution\n",
    "n_classes = 2\n",
    "n_channels = data.shape[1]\n",
    "n_timepoints = data.shape[2]"
   ]
  },
  {
   "cell_type": "code",
   "execution_count": 10,
   "id": "130d5344",
   "metadata": {},
   "outputs": [
    {
     "name": "stderr",
     "output_type": "stream",
     "text": [
      "2022-03-25 19:55:38.329639: I tensorflow/core/platform/cpu_feature_guard.cc:145] This TensorFlow binary is optimized with Intel(R) MKL-DNN to use the following CPU instructions in performance critical operations:  SSE4.1 SSE4.2 AVX AVX2 FMA\n",
      "To enable them in non-MKL-DNN operations, rebuild TensorFlow with the appropriate compiler flags.\n",
      "2022-03-25 19:55:38.329894: I tensorflow/core/common_runtime/process_util.cc:115] Creating new thread pool with default inter op setting: 8. Tune using inter_op_parallelism_threads for best performance.\n"
     ]
    }
   ],
   "source": [
    "model = EEGNet(n_classes, n_channels, n_timepoints)"
   ]
  },
  {
   "cell_type": "markdown",
   "id": "43fc5e41",
   "metadata": {},
   "source": [
    "Before training we need to compile the network, there we specify the loss, optimizer, learning rate and any other metric that we would like to keep track of. \n",
    "We currently keep track of the accuracy and the AUC score, you are free to add anything else you find meaningfull. Check out https://www.tensorflow.org/api_docs/python/tf/keras/metrics for a list of possibilities. "
   ]
  },
  {
   "cell_type": "code",
   "execution_count": 11,
   "id": "8eaefcae",
   "metadata": {},
   "outputs": [],
   "source": [
    "#model.compile(loss='categorical_crossentropy', optimizer='adam', lr=0.000001, metrics=['accuracy', 'AUC'])\n",
    "model.compile(loss='categorical_crossentropy', optimizer='adam', lr=0.1, \n",
    "              metrics=['accuracy', 'AUC'])"
   ]
  },
  {
   "cell_type": "markdown",
   "id": "5bca91d5",
   "metadata": {},
   "source": [
    "Then we train the model for 50 epochs. We set the percentage of trials for the validation set with the variable validation_split (here 20%). "
   ]
  },
  {
   "cell_type": "code",
   "execution_count": 12,
   "id": "ab0a71b1",
   "metadata": {
    "scrolled": true
   },
   "outputs": [
    {
     "name": "stdout",
     "output_type": "stream",
     "text": [
      "Train on 98 samples, validate on 25 samples\n",
      "Epoch 1/50\n",
      "98/98 [==============================] - 4s 36ms/sample - loss: 0.8565 - accuracy: 0.4388 - AUC: 0.3831 - val_loss: 0.6889 - val_accuracy: 0.7200 - val_AUC: 0.7376\n",
      "Epoch 2/50\n",
      "98/98 [==============================] - 1s 9ms/sample - loss: 0.6521 - accuracy: 0.7449 - AUC: 0.7297 - val_loss: 0.6844 - val_accuracy: 0.8000 - val_AUC: 0.7488\n",
      "Epoch 3/50\n",
      "98/98 [==============================] - 1s 9ms/sample - loss: 0.6187 - accuracy: 0.7857 - AUC: 0.8199 - val_loss: 0.6800 - val_accuracy: 0.8000 - val_AUC: 0.7840\n",
      "Epoch 4/50\n",
      "98/98 [==============================] - 1s 9ms/sample - loss: 0.5959 - accuracy: 0.8163 - AUC: 0.8501 - val_loss: 0.6756 - val_accuracy: 0.8000 - val_AUC: 0.7840\n",
      "Epoch 5/50\n",
      "98/98 [==============================] - 1s 9ms/sample - loss: 0.5651 - accuracy: 0.8265 - AUC: 0.8532 - val_loss: 0.6712 - val_accuracy: 0.8000 - val_AUC: 0.8080\n",
      "Epoch 6/50\n",
      "98/98 [==============================] - 1s 9ms/sample - loss: 0.5582 - accuracy: 0.7959 - AUC: 0.8436 - val_loss: 0.6662 - val_accuracy: 0.8000 - val_AUC: 0.7984\n",
      "Epoch 7/50\n",
      "98/98 [==============================] - 1s 9ms/sample - loss: 0.5349 - accuracy: 0.8265 - AUC: 0.8588 - val_loss: 0.6611 - val_accuracy: 0.8000 - val_AUC: 0.7952\n",
      "Epoch 8/50\n",
      "98/98 [==============================] - 1s 9ms/sample - loss: 0.5094 - accuracy: 0.8469 - AUC: 0.8955 - val_loss: 0.6563 - val_accuracy: 0.8000 - val_AUC: 0.7968\n",
      "Epoch 9/50\n",
      "98/98 [==============================] - 1s 9ms/sample - loss: 0.5147 - accuracy: 0.8265 - AUC: 0.8594 - val_loss: 0.6510 - val_accuracy: 0.8000 - val_AUC: 0.7824\n",
      "Epoch 10/50\n",
      "98/98 [==============================] - 1s 9ms/sample - loss: 0.4846 - accuracy: 0.8367 - AUC: 0.8931 - val_loss: 0.6470 - val_accuracy: 0.8000 - val_AUC: 0.7872\n",
      "Epoch 11/50\n",
      "98/98 [==============================] - 1s 8ms/sample - loss: 0.4749 - accuracy: 0.8571 - AUC: 0.8895 - val_loss: 0.6425 - val_accuracy: 0.8000 - val_AUC: 0.8048\n",
      "Epoch 12/50\n",
      "98/98 [==============================] - 1s 9ms/sample - loss: 0.4537 - accuracy: 0.8469 - AUC: 0.9149 - val_loss: 0.6378 - val_accuracy: 0.8000 - val_AUC: 0.8048\n",
      "Epoch 13/50\n",
      "98/98 [==============================] - 1s 10ms/sample - loss: 0.4450 - accuracy: 0.8469 - AUC: 0.9135 - val_loss: 0.6333 - val_accuracy: 0.8000 - val_AUC: 0.8048\n",
      "Epoch 14/50\n",
      "98/98 [==============================] - 1s 9ms/sample - loss: 0.4498 - accuracy: 0.8571 - AUC: 0.9078 - val_loss: 0.6281 - val_accuracy: 0.8000 - val_AUC: 0.8080\n",
      "Epoch 15/50\n",
      "98/98 [==============================] - 1s 9ms/sample - loss: 0.4488 - accuracy: 0.8571 - AUC: 0.9004 - val_loss: 0.6223 - val_accuracy: 0.8000 - val_AUC: 0.8096\n",
      "Epoch 16/50\n",
      "98/98 [==============================] - 1s 9ms/sample - loss: 0.4148 - accuracy: 0.8469 - AUC: 0.9261 - val_loss: 0.6180 - val_accuracy: 0.8000 - val_AUC: 0.8160\n",
      "Epoch 17/50\n",
      "98/98 [==============================] - 1s 9ms/sample - loss: 0.4229 - accuracy: 0.8571 - AUC: 0.9219 - val_loss: 0.6155 - val_accuracy: 0.8000 - val_AUC: 0.8304\n",
      "Epoch 18/50\n",
      "98/98 [==============================] - 1s 9ms/sample - loss: 0.4247 - accuracy: 0.8469 - AUC: 0.9086 - val_loss: 0.6162 - val_accuracy: 0.8000 - val_AUC: 0.8320\n",
      "Epoch 19/50\n",
      "98/98 [==============================] - 1s 8ms/sample - loss: 0.4002 - accuracy: 0.8571 - AUC: 0.9366 - val_loss: 0.6129 - val_accuracy: 0.8000 - val_AUC: 0.8368\n",
      "Epoch 20/50\n",
      "98/98 [==============================] - 1s 9ms/sample - loss: 0.3876 - accuracy: 0.8469 - AUC: 0.9468 - val_loss: 0.6083 - val_accuracy: 0.8000 - val_AUC: 0.8400\n",
      "Epoch 21/50\n",
      "98/98 [==============================] - 1s 9ms/sample - loss: 0.4257 - accuracy: 0.8469 - AUC: 0.9096 - val_loss: 0.6040 - val_accuracy: 0.8000 - val_AUC: 0.8416\n",
      "Epoch 22/50\n",
      "98/98 [==============================] - 1s 9ms/sample - loss: 0.3997 - accuracy: 0.8469 - AUC: 0.9327 - val_loss: 0.5994 - val_accuracy: 0.8000 - val_AUC: 0.8368\n",
      "Epoch 23/50\n",
      "98/98 [==============================] - 1s 8ms/sample - loss: 0.3883 - accuracy: 0.8469 - AUC: 0.9377 - val_loss: 0.5928 - val_accuracy: 0.8000 - val_AUC: 0.8432\n",
      "Epoch 24/50\n",
      "98/98 [==============================] - 1s 9ms/sample - loss: 0.3814 - accuracy: 0.8469 - AUC: 0.9380 - val_loss: 0.5838 - val_accuracy: 0.8000 - val_AUC: 0.8240\n",
      "Epoch 25/50\n",
      "98/98 [==============================] - 1s 9ms/sample - loss: 0.3933 - accuracy: 0.8571 - AUC: 0.9195 - val_loss: 0.5763 - val_accuracy: 0.8000 - val_AUC: 0.8128\n",
      "Epoch 26/50\n",
      "98/98 [==============================] - 1s 9ms/sample - loss: 0.3789 - accuracy: 0.8571 - AUC: 0.9237 - val_loss: 0.5716 - val_accuracy: 0.8000 - val_AUC: 0.8144\n",
      "Epoch 27/50\n",
      "98/98 [==============================] - 1s 9ms/sample - loss: 0.3500 - accuracy: 0.8980 - AUC: 0.9402 - val_loss: 0.5683 - val_accuracy: 0.8000 - val_AUC: 0.8096\n",
      "Epoch 28/50\n",
      "98/98 [==============================] - 1s 9ms/sample - loss: 0.3602 - accuracy: 0.8673 - AUC: 0.9385 - val_loss: 0.5703 - val_accuracy: 0.8000 - val_AUC: 0.8256\n",
      "Epoch 29/50\n",
      "98/98 [==============================] - 1s 8ms/sample - loss: 0.3703 - accuracy: 0.8673 - AUC: 0.9259 - val_loss: 0.5777 - val_accuracy: 0.8000 - val_AUC: 0.8272\n",
      "Epoch 30/50\n",
      "98/98 [==============================] - 1s 9ms/sample - loss: 0.3460 - accuracy: 0.8673 - AUC: 0.9547 - val_loss: 0.5838 - val_accuracy: 0.8000 - val_AUC: 0.8240\n",
      "Epoch 31/50\n",
      "98/98 [==============================] - 1s 9ms/sample - loss: 0.3465 - accuracy: 0.8776 - AUC: 0.9606 - val_loss: 0.5818 - val_accuracy: 0.8000 - val_AUC: 0.8240\n",
      "Epoch 32/50\n",
      "98/98 [==============================] - 1s 9ms/sample - loss: 0.3417 - accuracy: 0.8878 - AUC: 0.9623 - val_loss: 0.5698 - val_accuracy: 0.8000 - val_AUC: 0.8368\n",
      "Epoch 33/50\n",
      "98/98 [==============================] - 1s 9ms/sample - loss: 0.3441 - accuracy: 0.8776 - AUC: 0.9625 - val_loss: 0.5590 - val_accuracy: 0.8000 - val_AUC: 0.8384\n",
      "Epoch 34/50\n",
      "98/98 [==============================] - 1s 9ms/sample - loss: 0.3514 - accuracy: 0.8776 - AUC: 0.9496 - val_loss: 0.5494 - val_accuracy: 0.8000 - val_AUC: 0.8432\n",
      "Epoch 35/50\n",
      "98/98 [==============================] - 1s 9ms/sample - loss: 0.3331 - accuracy: 0.9082 - AUC: 0.9591 - val_loss: 0.5383 - val_accuracy: 0.8400 - val_AUC: 0.8336\n",
      "Epoch 36/50\n",
      "98/98 [==============================] - 1s 8ms/sample - loss: 0.3255 - accuracy: 0.9184 - AUC: 0.9644 - val_loss: 0.5360 - val_accuracy: 0.8400 - val_AUC: 0.8256\n",
      "Epoch 37/50\n",
      "98/98 [==============================] - 1s 9ms/sample - loss: 0.3438 - accuracy: 0.8673 - AUC: 0.9512 - val_loss: 0.5370 - val_accuracy: 0.8400 - val_AUC: 0.8304\n",
      "Epoch 38/50\n",
      "98/98 [==============================] - 1s 9ms/sample - loss: 0.3232 - accuracy: 0.8878 - AUC: 0.9630 - val_loss: 0.5385 - val_accuracy: 0.8400 - val_AUC: 0.8448\n",
      "Epoch 39/50\n",
      "98/98 [==============================] - 1s 9ms/sample - loss: 0.3247 - accuracy: 0.8878 - AUC: 0.9620 - val_loss: 0.5398 - val_accuracy: 0.8400 - val_AUC: 0.8448\n",
      "Epoch 40/50\n",
      "98/98 [==============================] - 1s 9ms/sample - loss: 0.3243 - accuracy: 0.8776 - AUC: 0.9572 - val_loss: 0.5341 - val_accuracy: 0.8400 - val_AUC: 0.8504\n",
      "Epoch 41/50\n",
      "98/98 [==============================] - 1s 9ms/sample - loss: 0.3137 - accuracy: 0.8776 - AUC: 0.9701 - val_loss: 0.5184 - val_accuracy: 0.8400 - val_AUC: 0.8464\n",
      "Epoch 42/50\n",
      "98/98 [==============================] - 1s 9ms/sample - loss: 0.3334 - accuracy: 0.8571 - AUC: 0.9556 - val_loss: 0.5058 - val_accuracy: 0.8800 - val_AUC: 0.8320\n",
      "Epoch 43/50\n",
      "98/98 [==============================] - 1s 9ms/sample - loss: 0.3079 - accuracy: 0.8878 - AUC: 0.9611 - val_loss: 0.5039 - val_accuracy: 0.8800 - val_AUC: 0.8336\n",
      "Epoch 44/50\n",
      "98/98 [==============================] - 1s 10ms/sample - loss: 0.3068 - accuracy: 0.8980 - AUC: 0.9608 - val_loss: 0.5051 - val_accuracy: 0.8800 - val_AUC: 0.8384\n",
      "Epoch 45/50\n",
      "98/98 [==============================] - 1s 9ms/sample - loss: 0.3362 - accuracy: 0.9184 - AUC: 0.9438 - val_loss: 0.5038 - val_accuracy: 0.8800 - val_AUC: 0.8320\n",
      "Epoch 46/50\n",
      "98/98 [==============================] - 1s 9ms/sample - loss: 0.3131 - accuracy: 0.8776 - AUC: 0.9590 - val_loss: 0.5112 - val_accuracy: 0.8400 - val_AUC: 0.8464\n",
      "Epoch 47/50\n"
     ]
    },
    {
     "name": "stdout",
     "output_type": "stream",
     "text": [
      "98/98 [==============================] - 1s 9ms/sample - loss: 0.3059 - accuracy: 0.9082 - AUC: 0.9631 - val_loss: 0.5229 - val_accuracy: 0.8000 - val_AUC: 0.8352\n",
      "Epoch 48/50\n",
      "98/98 [==============================] - 1s 9ms/sample - loss: 0.3303 - accuracy: 0.8571 - AUC: 0.9593 - val_loss: 0.5297 - val_accuracy: 0.8000 - val_AUC: 0.8320\n",
      "Epoch 49/50\n",
      "98/98 [==============================] - 1s 9ms/sample - loss: 0.2978 - accuracy: 0.8980 - AUC: 0.9780 - val_loss: 0.5229 - val_accuracy: 0.8000 - val_AUC: 0.8336\n",
      "Epoch 50/50\n",
      "98/98 [==============================] - 1s 9ms/sample - loss: 0.2954 - accuracy: 0.9184 - AUC: 0.9721 - val_loss: 0.5054 - val_accuracy: 0.8000 - val_AUC: 0.8576\n"
     ]
    }
   ],
   "source": [
    "history = model.fit(train_data, labels_train, validation_split=0.2, epochs=50)"
   ]
  },
  {
   "cell_type": "markdown",
   "id": "e8f75643",
   "metadata": {},
   "source": [
    "Let's evaluate how the learning of the model progressed during the training. The history variable contains the progresssion of the models evaluated on the metrics, that we gave to the model before as well as the loss. The history contains the vlues for the train and validation (called with a prefix of 'val_') metrics. We can see all that it keeps track of with:"
   ]
  },
  {
   "cell_type": "code",
   "execution_count": 13,
   "id": "80d46a19",
   "metadata": {},
   "outputs": [
    {
     "data": {
      "text/plain": [
       "dict_keys(['loss', 'accuracy', 'AUC', 'val_loss', 'val_accuracy', 'val_AUC'])"
      ]
     },
     "execution_count": 13,
     "metadata": {},
     "output_type": "execute_result"
    }
   ],
   "source": [
    "history.history.keys()"
   ]
  },
  {
   "cell_type": "code",
   "execution_count": 14,
   "id": "00b834bb",
   "metadata": {},
   "outputs": [],
   "source": [
    "def plot_history(history, key):\n",
    "    fig, ax = plt.subplots(figsize=(7, 5))\n",
    "    ax.set_xlabel('Epochs')\n",
    "    ax.set_ylabel(key.capitalize())\n",
    "\n",
    "    plt.plot(history.history[key], color='C0', label = 'Train', linewidth=2)\n",
    "    plt.plot(history.history['val_'+key], color='C3', label='Validation', linewidth=2)\n",
    "\n",
    "    legend = ax.legend(fontsize='medium')\n",
    "    ax.set_title('Model ' + key.capitalize())\n",
    "    plt.show()"
   ]
  },
  {
   "cell_type": "code",
   "execution_count": 15,
   "id": "77603091",
   "metadata": {},
   "outputs": [
    {
     "data": {
      "image/png": "[encoded data removed]",
      "text/plain": [
       "<Figure size 504x360 with 1 Axes>"
      ]
     },
     "metadata": {
      "needs_background": "light"
     },
     "output_type": "display_data"
    }
   ],
   "source": [
    "plot_history(history, 'accuracy')"
   ]
  },
  {
   "cell_type": "code",
   "execution_count": 16,
   "id": "075751af",
   "metadata": {},
   "outputs": [
    {
     "data": {
      "image/png": "[encoded data removed]",
      "text/plain": [
       "<Figure size 504x360 with 1 Axes>"
      ]
     },
     "metadata": {
      "needs_background": "light"
     },
     "output_type": "display_data"
    }
   ],
   "source": [
    "plot_history(history, 'AUC')"
   ]
  },
  {
   "cell_type": "code",
   "execution_count": 17,
   "id": "1b11f55d",
   "metadata": {},
   "outputs": [
    {
     "data": {
      "image/png": "[encoded data removed]",
      "text/plain": [
       "<Figure size 504x360 with 1 Axes>"
      ]
     },
     "metadata": {
      "needs_background": "light"
     },
     "output_type": "display_data"
    }
   ],
   "source": [
    "plot_history(history, 'loss')"
   ]
  },
  {
   "cell_type": "markdown",
   "id": "8514bcfb",
   "metadata": {},
   "source": [
    "### Exercise 4:\n",
    "Now we avaluate the performance:\n",
    "1. We will need the predictions and true labels to only have a single dimensional for the f1-score function. Which are both given bellow as predictions and true labels for the train set. Also calculate them for the test set. \n",
    "2. Then evaluate the f-score for the train set and the test set.\n",
    "\n",
    "Is the performance increased?"
   ]
  },
  {
   "cell_type": "code",
   "execution_count": 18,
   "id": "7af14e8d",
   "metadata": {},
   "outputs": [
    {
     "name": "stdout",
     "output_type": "stream",
     "text": [
      "The F1-score for the train set is  0.61\n",
      "The F1-score for the test set is  0.60\n"
     ]
    }
   ],
   "source": [
    "predictions_train = np.argmax(model.predict(train_data), axis=1)\n",
    "true_labels_train = np.argmax(labels_train, axis=1)\n",
    "\n",
    "# solution\n",
    "predictions_test = np.argmax(model.predict(test_data), axis=1)\n",
    "true_labels_test = np.argmax(labels_test, axis=1)\n",
    "\n",
    "print(f'The F1-score for the train set is {f1_score(true_labels_train, predictions_train) : .2f}')\n",
    "print(f'The F1-score for the test set is {f1_score(true_labels_test, predictions_test) : .2f}')"
   ]
  },
  {
   "cell_type": "code",
   "execution_count": null,
   "id": "3bd4a81d",
   "metadata": {},
   "outputs": [],
   "source": []
  }
 ],
 "metadata": {
  "kernelspec": {
   "display_name": "Python 3 (ipykernel)",
   "language": "python",
   "name": "python3"
  },
  "language_info": {
   "codemirror_mode": {
    "name": "ipython",
    "version": 3
   },
   "file_extension": ".py",
   "mimetype": "text/x-python",
   "name": "python",
   "nbconvert_exporter": "python",
   "pygments_lexer": "ipython3",
   "version": "3.7.11"
  }
 },
 "nbformat": 4,
 "nbformat_minor": 5
}
