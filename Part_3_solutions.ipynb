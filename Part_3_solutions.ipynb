{
 "cells": [
  {
   "cell_type": "markdown",
   "id": "5e964078",
   "metadata": {},
   "source": [
    "# Part 3: Neural Networks for Neural Data of a single Participant"
   ]
  },
  {
   "cell_type": "markdown",
   "id": "ccf34c02",
   "metadata": {},
   "source": [
    "First we load the necessary libraries"
   ]
  },
  {
   "cell_type": "code",
   "execution_count": 60,
   "id": "47e2903f",
   "metadata": {},
   "outputs": [],
   "source": [
    "import mne\n",
    "import matplotlib.pyplot as plt\n",
    "import numpy as np\n",
    "import tensorflow as tf\n",
    "from sklearn.model_selection import train_test_split\n",
    "from tensorflow.keras.utils import to_categorical\n",
    "from sklearn.metrics import classification_report, accuracy_score, precision_recall_fscore_support"
   ]
  },
  {
   "cell_type": "markdown",
   "id": "6be0cf7d",
   "metadata": {},
   "source": [
    "Move EEGNet to external file, and see how to get it with git"
   ]
  },
  {
   "cell_type": "code",
   "execution_count": 12,
   "id": "5ab74d02",
   "metadata": {},
   "outputs": [],
   "source": [
    "from tensorflow.keras.models import Model\n",
    "from tensorflow.keras.layers import Dense, Activation, Permute, Dropout\n",
    "from tensorflow.keras.layers import Conv2D, MaxPooling2D, AveragePooling2D\n",
    "from tensorflow.keras.layers import SeparableConv2D, DepthwiseConv2D\n",
    "from tensorflow.keras.layers import BatchNormalization\n",
    "from tensorflow.keras.layers import SpatialDropout2D\n",
    "from tensorflow.keras.regularizers import l1_l2\n",
    "from tensorflow.keras.layers import Input, Flatten\n",
    "from tensorflow.keras.constraints import max_norm\n",
    "from tensorflow.keras import backend as K"
   ]
  },
  {
   "cell_type": "code",
   "execution_count": 199,
   "id": "6885b5ec",
   "metadata": {},
   "outputs": [],
   "source": [
    "def EEGNet(nb_classes, Chans = 64, Samples = 128, \n",
    "             dropoutRate = 0.5, kernLength = 64, F1 = 8, \n",
    "             D = 2, F2 = 16, norm_rate = 0.25, dropoutType = 'Dropout'):\n",
    "    if dropoutType == 'SpatialDropout2D':\n",
    "        dropoutType = SpatialDropout2D\n",
    "    elif dropoutType == 'Dropout':\n",
    "        dropoutType = Dropout\n",
    "    else:\n",
    "        raise ValueError('dropoutType must be one of SpatialDropout2D '\n",
    "                         'or Dropout, passed as a string.')\n",
    "    \n",
    "    input1   = Input(shape = (Chans, Samples, 1))\n",
    "\n",
    "    block1       = Conv2D(F1, (1, kernLength), padding = 'same',\n",
    "                                   input_shape = (Chans, Samples, 1),\n",
    "                                   use_bias = False)(input1)\n",
    "    block1       = BatchNormalization()(block1)\n",
    "    block1       = DepthwiseConv2D((Chans, 1), use_bias = False, \n",
    "                                   depth_multiplier = D,\n",
    "                                   depthwise_constraint = max_norm(1.))(block1)\n",
    "    block1       = BatchNormalization()(block1)\n",
    "    block1       = Activation('elu')(block1)\n",
    "    block1       = AveragePooling2D((1, 4))(block1)\n",
    "    block1       = dropoutType(dropoutRate)(block1)\n",
    "    \n",
    "    block2       = SeparableConv2D(F2, (1, 16),\n",
    "                                   use_bias = False, padding = 'same')(block1)\n",
    "    block2       = BatchNormalization()(block2)\n",
    "    block2       = Activation('elu')(block2)\n",
    "    block2       = AveragePooling2D((1, 8))(block2)\n",
    "    block2       = dropoutType(dropoutRate)(block2)\n",
    "        \n",
    "    flatten      = Flatten(name = 'flatten')(block2)\n",
    "    \n",
    "    dense        = Dense(nb_classes, name = 'dense', \n",
    "                         kernel_constraint = max_norm(norm_rate))(flatten)\n",
    "    softmax      = Activation('softmax', name = 'softmax')(dense)\n",
    "    \n",
    "    return Model(inputs=input1, outputs=softmax)"
   ]
  },
  {
   "cell_type": "markdown",
   "id": "fb7c708f",
   "metadata": {},
   "source": [
    "#### Exercise 1: Training the first neural network on patient 902"
   ]
  },
  {
   "cell_type": "markdown",
   "id": "237df98a",
   "metadata": {},
   "source": [
    "- Load the .fif file that we used before. \n",
    "- Extract the data and labels\n",
    "- As descibed in the lecture you need to normalize the data (each trial seperately)\n",
    "- And you should use one-hot encoded labels, you can use the function 'to_categorical' from tensorflow.keras.utils"
   ]
  },
  {
   "cell_type": "code",
   "execution_count": 201,
   "id": "662c1feb",
   "metadata": {},
   "outputs": [],
   "source": [
    "data_file = '902_1_PDDys_ODDBALL_Clean_curated_new'"
   ]
  },
  {
   "cell_type": "raw",
   "id": "abdf94f8",
   "metadata": {},
   "source": [
    "def normalize(volume):\n",
    "    stdev = np.std(volume, dtype=np.float64)\n",
    "    mean = np.mean(volume, dtype=np.float64)\n",
    "    return (volume - np.float32(mean)) / np.float32(stdev)"
   ]
  },
  {
   "cell_type": "raw",
   "id": "68786e50",
   "metadata": {},
   "source": [
    "epochs = mne.read_epochs(data_file + '.fif', verbose='error')\n",
    "data = np.expand_dims(epochs.get_data(), axis=-1)\n",
    "labels = np.where(epochs.events[:,-1] == 201, 0, 1)\n",
    "trial_shape = data.shape[1:]\n",
    "labels = to_categorical(labels)\n",
    "for i, sample in enumerate(data):\n",
    "    data[i] = normalize(sample)"
   ]
  },
  {
   "cell_type": "markdown",
   "id": "2149c877",
   "metadata": {},
   "source": [
    "In the next step you should create the train and test sets"
   ]
  },
  {
   "cell_type": "raw",
   "id": "f1794200",
   "metadata": {},
   "source": [
    "train_data, test_data, labels_train, labels_test = train_test_split(data, labels, \n",
    "                                                                    test_size=0.3, \n",
    "                                                                    random_state=42)\n"
   ]
  },
  {
   "cell_type": "markdown",
   "id": "9a7b3f0c",
   "metadata": {},
   "source": [
    "Now let's define the model, it takes as input : the number of classes, the number of recorded EEG channels and the number of time points per trial.\n",
    "\n",
    "We are using EEGNet, which was developped by Lawhern et. al. (2017) https://github.com/vlawhern/arl-eegmodels"
   ]
  },
  {
   "cell_type": "raw",
   "id": "13d5b44d",
   "metadata": {},
   "source": [
    "n_classes = 2\n",
    "n_channels = data.shape[1]\n",
    "n_timepoints = data.shape[2]"
   ]
  },
  {
   "cell_type": "code",
   "execution_count": 212,
   "id": "0a623bda",
   "metadata": {},
   "outputs": [],
   "source": [
    "model = EEGNet(n_classes, n_channels, n_timepoints)"
   ]
  },
  {
   "cell_type": "markdown",
   "id": "ca3f09d1",
   "metadata": {},
   "source": [
    "Before training we need to compile the network, there we specify the loss, optimizer, learning rate and any other metric that we would like to keep track of. \n",
    "We currently keep track of the accuracy and the AUC score, you are free to add anything else you find meaningfull. Check out https://www.tensorflow.org/api_docs/python/tf/keras/metrics for a list of possibilities. "
   ]
  },
  {
   "cell_type": "code",
   "execution_count": 207,
   "id": "0ee6e2e8",
   "metadata": {},
   "outputs": [
    {
     "name": "stdout",
     "output_type": "stream",
     "text": [
      "Train on 85 samples, validate on 22 samples\n",
      "Epoch 1/50\n",
      "85/85 [==============================] - 4s 44ms/sample - loss: 0.7736 - accuracy: 0.4588 - AUC: 0.4301 - val_loss: 0.6908 - val_accuracy: 0.6364 - val_AUC: 0.6126\n",
      "Epoch 2/50\n",
      "85/85 [==============================] - 2s 19ms/sample - loss: 0.6583 - accuracy: 0.6588 - AUC: 0.6866 - val_loss: 0.6893 - val_accuracy: 0.5909 - val_AUC: 0.6147\n",
      "Epoch 3/50\n",
      "85/85 [==============================] - 2s 18ms/sample - loss: 0.6172 - accuracy: 0.7176 - AUC: 0.8156 - val_loss: 0.6874 - val_accuracy: 0.6364 - val_AUC: 0.6725\n",
      "Epoch 4/50\n",
      "85/85 [==============================] - 2s 19ms/sample - loss: 0.5819 - accuracy: 0.8000 - AUC: 0.8570 - val_loss: 0.6854 - val_accuracy: 0.5909 - val_AUC: 0.6973\n",
      "Epoch 5/50\n",
      "85/85 [==============================] - 2s 19ms/sample - loss: 0.5440 - accuracy: 0.8235 - AUC: 0.8963 - val_loss: 0.6824 - val_accuracy: 0.6818 - val_AUC: 0.7025\n",
      "Epoch 6/50\n",
      "85/85 [==============================] - 2s 19ms/sample - loss: 0.5231 - accuracy: 0.8471 - AUC: 0.9051 - val_loss: 0.6789 - val_accuracy: 0.6818 - val_AUC: 0.7407\n",
      "Epoch 7/50\n",
      "85/85 [==============================] - 2s 19ms/sample - loss: 0.5284 - accuracy: 0.8353 - AUC: 0.8731 - val_loss: 0.6745 - val_accuracy: 0.7273 - val_AUC: 0.7552\n",
      "Epoch 8/50\n",
      "85/85 [==============================] - 2s 18ms/sample - loss: 0.4801 - accuracy: 0.8588 - AUC: 0.9035 - val_loss: 0.6698 - val_accuracy: 0.7273 - val_AUC: 0.7862\n",
      "Epoch 9/50\n",
      "85/85 [==============================] - 2s 18ms/sample - loss: 0.4585 - accuracy: 0.8353 - AUC: 0.9244 - val_loss: 0.6657 - val_accuracy: 0.7727 - val_AUC: 0.7903\n",
      "Epoch 10/50\n",
      "85/85 [==============================] - 2s 18ms/sample - loss: 0.4545 - accuracy: 0.8471 - AUC: 0.9103 - val_loss: 0.6609 - val_accuracy: 0.7727 - val_AUC: 0.7934\n",
      "Epoch 11/50\n",
      "85/85 [==============================] - 2s 18ms/sample - loss: 0.4259 - accuracy: 0.8471 - AUC: 0.9344 - val_loss: 0.6569 - val_accuracy: 0.7727 - val_AUC: 0.7924\n",
      "Epoch 12/50\n",
      "85/85 [==============================] - 2s 19ms/sample - loss: 0.4194 - accuracy: 0.8588 - AUC: 0.9322 - val_loss: 0.6517 - val_accuracy: 0.8182 - val_AUC: 0.7965\n",
      "Epoch 13/50\n",
      "85/85 [==============================] - 2s 18ms/sample - loss: 0.4100 - accuracy: 0.8471 - AUC: 0.9194 - val_loss: 0.6457 - val_accuracy: 0.8182 - val_AUC: 0.8058\n",
      "Epoch 14/50\n",
      "85/85 [==============================] - 2s 18ms/sample - loss: 0.3988 - accuracy: 0.8588 - AUC: 0.9366 - val_loss: 0.6383 - val_accuracy: 0.8182 - val_AUC: 0.8120\n",
      "Epoch 15/50\n",
      "85/85 [==============================] - 2s 18ms/sample - loss: 0.3772 - accuracy: 0.8588 - AUC: 0.9536 - val_loss: 0.6314 - val_accuracy: 0.8182 - val_AUC: 0.8017\n",
      "Epoch 16/50\n",
      "85/85 [==============================] - 2s 18ms/sample - loss: 0.3547 - accuracy: 0.8471 - AUC: 0.9552 - val_loss: 0.6246 - val_accuracy: 0.8182 - val_AUC: 0.8037\n",
      "Epoch 17/50\n",
      "85/85 [==============================] - 2s 18ms/sample - loss: 0.3368 - accuracy: 0.8941 - AUC: 0.9693 - val_loss: 0.6209 - val_accuracy: 0.8182 - val_AUC: 0.8120\n",
      "Epoch 18/50\n",
      "85/85 [==============================] - 2s 18ms/sample - loss: 0.3489 - accuracy: 0.8706 - AUC: 0.9512 - val_loss: 0.6164 - val_accuracy: 0.8182 - val_AUC: 0.8161\n",
      "Epoch 19/50\n",
      "85/85 [==============================] - 2s 19ms/sample - loss: 0.3208 - accuracy: 0.8824 - AUC: 0.9653 - val_loss: 0.6169 - val_accuracy: 0.7727 - val_AUC: 0.8130\n",
      "Epoch 20/50\n",
      "85/85 [==============================] - 2s 18ms/sample - loss: 0.3389 - accuracy: 0.8941 - AUC: 0.9655 - val_loss: 0.6107 - val_accuracy: 0.7727 - val_AUC: 0.8192\n",
      "Epoch 21/50\n",
      "85/85 [==============================] - 2s 19ms/sample - loss: 0.3106 - accuracy: 0.8941 - AUC: 0.9736 - val_loss: 0.6019 - val_accuracy: 0.8182 - val_AUC: 0.8275\n",
      "Epoch 22/50\n",
      "85/85 [==============================] - 2s 19ms/sample - loss: 0.2969 - accuracy: 0.9059 - AUC: 0.9755 - val_loss: 0.5918 - val_accuracy: 0.8182 - val_AUC: 0.8388\n",
      "Epoch 23/50\n",
      "85/85 [==============================] - 2s 18ms/sample - loss: 0.3049 - accuracy: 0.8941 - AUC: 0.9683 - val_loss: 0.5856 - val_accuracy: 0.7727 - val_AUC: 0.8347\n",
      "Epoch 24/50\n",
      "85/85 [==============================] - 2s 18ms/sample - loss: 0.2848 - accuracy: 0.9176 - AUC: 0.9821 - val_loss: 0.5824 - val_accuracy: 0.7727 - val_AUC: 0.8254\n",
      "Epoch 25/50\n",
      "85/85 [==============================] - 2s 18ms/sample - loss: 0.2477 - accuracy: 0.9412 - AUC: 0.9904 - val_loss: 0.5803 - val_accuracy: 0.7273 - val_AUC: 0.8223\n",
      "Epoch 26/50\n",
      "85/85 [==============================] - 2s 18ms/sample - loss: 0.2428 - accuracy: 0.9765 - AUC: 0.9932 - val_loss: 0.5756 - val_accuracy: 0.7273 - val_AUC: 0.8244\n",
      "Epoch 27/50\n",
      "85/85 [==============================] - 2s 19ms/sample - loss: 0.2804 - accuracy: 0.9059 - AUC: 0.9764 - val_loss: 0.5714 - val_accuracy: 0.7727 - val_AUC: 0.8285\n",
      "Epoch 28/50\n",
      "85/85 [==============================] - 2s 19ms/sample - loss: 0.2468 - accuracy: 0.9294 - AUC: 0.9864 - val_loss: 0.5648 - val_accuracy: 0.7727 - val_AUC: 0.8368\n",
      "Epoch 29/50\n",
      "85/85 [==============================] - 2s 18ms/sample - loss: 0.2483 - accuracy: 0.9059 - AUC: 0.9863 - val_loss: 0.5507 - val_accuracy: 0.7727 - val_AUC: 0.8461\n",
      "Epoch 30/50\n",
      "85/85 [==============================] - 2s 18ms/sample - loss: 0.2276 - accuracy: 0.9529 - AUC: 0.9902 - val_loss: 0.5413 - val_accuracy: 0.8182 - val_AUC: 0.8461\n",
      "Epoch 31/50\n",
      "85/85 [==============================] - 2s 18ms/sample - loss: 0.2355 - accuracy: 0.9294 - AUC: 0.9835 - val_loss: 0.5379 - val_accuracy: 0.8182 - val_AUC: 0.8512\n",
      "Epoch 32/50\n",
      "85/85 [==============================] - 2s 18ms/sample - loss: 0.2132 - accuracy: 0.9412 - AUC: 0.9945 - val_loss: 0.5367 - val_accuracy: 0.7727 - val_AUC: 0.8430\n",
      "Epoch 33/50\n",
      "85/85 [==============================] - 2s 18ms/sample - loss: 0.2006 - accuracy: 0.9647 - AUC: 0.9938 - val_loss: 0.5350 - val_accuracy: 0.7727 - val_AUC: 0.8326\n",
      "Epoch 34/50\n",
      "85/85 [==============================] - 2s 19ms/sample - loss: 0.1992 - accuracy: 0.9765 - AUC: 0.9989 - val_loss: 0.5343 - val_accuracy: 0.7273 - val_AUC: 0.8244\n",
      "Epoch 35/50\n",
      "85/85 [==============================] - 2s 19ms/sample - loss: 0.2030 - accuracy: 0.9882 - AUC: 0.9993 - val_loss: 0.5298 - val_accuracy: 0.7273 - val_AUC: 0.8285\n",
      "Epoch 36/50\n",
      "85/85 [==============================] - 2s 18ms/sample - loss: 0.1905 - accuracy: 0.9412 - AUC: 0.9949 - val_loss: 0.5240 - val_accuracy: 0.7273 - val_AUC: 0.8337\n",
      "Epoch 37/50\n",
      "85/85 [==============================] - 2s 18ms/sample - loss: 0.1983 - accuracy: 0.9529 - AUC: 0.9945 - val_loss: 0.5168 - val_accuracy: 0.7727 - val_AUC: 0.8430\n",
      "Epoch 38/50\n",
      "85/85 [==============================] - 2s 18ms/sample - loss: 0.1921 - accuracy: 0.9647 - AUC: 0.9971 - val_loss: 0.5135 - val_accuracy: 0.7273 - val_AUC: 0.8471\n",
      "Epoch 39/50\n",
      "85/85 [==============================] - 2s 19ms/sample - loss: 0.1851 - accuracy: 0.9882 - AUC: 0.9970 - val_loss: 0.5077 - val_accuracy: 0.7727 - val_AUC: 0.8595\n",
      "Epoch 40/50\n",
      "85/85 [==============================] - 2s 19ms/sample - loss: 0.1828 - accuracy: 0.9882 - AUC: 0.9992 - val_loss: 0.4982 - val_accuracy: 0.8182 - val_AUC: 0.8657\n",
      "Epoch 41/50\n",
      "85/85 [==============================] - 2s 18ms/sample - loss: 0.1782 - accuracy: 0.9765 - AUC: 0.9982 - val_loss: 0.4831 - val_accuracy: 0.8636 - val_AUC: 0.8698\n",
      "Epoch 42/50\n",
      "85/85 [==============================] - 2s 18ms/sample - loss: 0.1692 - accuracy: 0.9647 - AUC: 0.9988 - val_loss: 0.4771 - val_accuracy: 0.8636 - val_AUC: 0.8698\n",
      "Epoch 43/50\n",
      "85/85 [==============================] - 2s 18ms/sample - loss: 0.1655 - accuracy: 0.9882 - AUC: 0.9999 - val_loss: 0.4742 - val_accuracy: 0.8636 - val_AUC: 0.8719\n",
      "Epoch 44/50\n",
      "85/85 [==============================] - 2s 18ms/sample - loss: 0.1600 - accuracy: 0.9882 - AUC: 0.9990 - val_loss: 0.4726 - val_accuracy: 0.8636 - val_AUC: 0.8719\n",
      "Epoch 45/50\n",
      "85/85 [==============================] - 2s 18ms/sample - loss: 0.1660 - accuracy: 0.9647 - AUC: 0.9977 - val_loss: 0.4684 - val_accuracy: 0.8636 - val_AUC: 0.8678\n",
      "Epoch 46/50\n",
      "85/85 [==============================] - 2s 18ms/sample - loss: 0.1575 - accuracy: 0.9765 - AUC: 0.9983 - val_loss: 0.4734 - val_accuracy: 0.8182 - val_AUC: 0.8657\n",
      "Epoch 47/50\n"
     ]
    },
    {
     "name": "stdout",
     "output_type": "stream",
     "text": [
      "85/85 [==============================] - 2s 19ms/sample - loss: 0.1359 - accuracy: 1.0000 - AUC: 1.0000 - val_loss: 0.4797 - val_accuracy: 0.7727 - val_AUC: 0.8657\n",
      "Epoch 48/50\n",
      "85/85 [==============================] - 2s 19ms/sample - loss: 0.1549 - accuracy: 0.9882 - AUC: 0.9992 - val_loss: 0.4768 - val_accuracy: 0.7727 - val_AUC: 0.8657\n",
      "Epoch 49/50\n",
      "85/85 [==============================] - 2s 18ms/sample - loss: 0.1513 - accuracy: 0.9765 - AUC: 0.9986 - val_loss: 0.4624 - val_accuracy: 0.8182 - val_AUC: 0.8678\n",
      "Epoch 50/50\n",
      "85/85 [==============================] - 2s 19ms/sample - loss: 0.1487 - accuracy: 1.0000 - AUC: 1.0000 - val_loss: 0.4536 - val_accuracy: 0.8182 - val_AUC: 0.8719\n"
     ]
    }
   ],
   "source": [
    "model.compile(loss = 'categorical_crossentropy', optimizer = 'adam', lr=0.1, metrics=['accuracy', 'AUC'])\n",
    "fittedModel    = model.fit(train_data, labels_train, validation_split=0.2, epochs=50)"
   ]
  },
  {
   "cell_type": "code",
   "execution_count": 208,
   "id": "e321837f",
   "metadata": {},
   "outputs": [],
   "source": [
    "predictions = np.argmax(model.predict(test_data), axis=1)\n",
    "#labels_test = np.argmax(labels_test, axis=1)"
   ]
  },
  {
   "cell_type": "code",
   "execution_count": 209,
   "id": "85285924",
   "metadata": {},
   "outputs": [
    {
     "name": "stdout",
     "output_type": "stream",
     "text": [
      "EEGNet Clasification Report:\n",
      "               precision    recall  f1-score   support\n",
      "\n",
      "    Standard       0.88      0.95      0.91        38\n",
      "       Novel       0.67      0.44      0.53         9\n",
      "\n",
      "    accuracy                           0.85        47\n",
      "   macro avg       0.77      0.70      0.72        47\n",
      "weighted avg       0.84      0.85      0.84        47\n",
      "\n",
      "Accuracy of EEGNet model: 0.851063829787234\n",
      "Precision: 0.7723577235772358, Recall: 0.695906432748538, f1-score:0.7223628691983123\n"
     ]
    }
   ],
   "source": [
    "labels_test_true = np.argmax(labels_test, axis=1)\n",
    "report_eegnet = classification_report(labels_test_true, predictions, target_names=['Standard', 'Novel'])\n",
    "print('EEGNet Clasification Report:\\n {}'.format(report_eegnet))\n",
    "\n",
    "acc_eegnet = accuracy_score(labels_test_true, predictions)\n",
    "print(\"Accuracy of EEGNet model: {}\".format(acc_eegnet))\n",
    "\n",
    "precision_eegnet,recall_eegnet,fscore_eegnet,support_eegnet=precision_recall_fscore_support(labels_test_true,\n",
    "                                                                                predictions,\n",
    "                                                                                average='macro')\n",
    "print('Precision: {0}, Recall: {1}, f1-score:{2}'.format(precision_eegnet,recall_eegnet,fscore_eegnet))"
   ]
  },
  {
   "cell_type": "code",
   "execution_count": 210,
   "id": "5949b77c",
   "metadata": {},
   "outputs": [
    {
     "name": "stdout",
     "output_type": "stream",
     "text": [
      "dict_keys(['loss', 'accuracy', 'AUC', 'val_loss', 'val_accuracy', 'val_AUC'])\n"
     ]
    },
    {
     "data": {
      "image/png": "[encoded data removed]",
      "text/plain": [
       "<Figure size 432x288 with 1 Axes>"
      ]
     },
     "metadata": {
      "needs_background": "light"
     },
     "output_type": "display_data"
    },
    {
     "data": {
      "image/png": "[encoded data removed]",
      "text/plain": [
       "<Figure size 432x288 with 1 Axes>"
      ]
     },
     "metadata": {
      "needs_background": "light"
     },
     "output_type": "display_data"
    },
    {
     "data": {
      "image/png": "[encoded data removed]",
      "text/plain": [
       "<Figure size 432x288 with 1 Axes>"
      ]
     },
     "metadata": {
      "needs_background": "light"
     },
     "output_type": "display_data"
    }
   ],
   "source": [
    "print(fittedModel.history.keys())\n",
    "# summarize history for accuracy\n",
    "plt.plot(fittedModel.history['accuracy'])\n",
    "plt.plot(fittedModel.history['val_accuracy'])\n",
    "plt.title('model accuracy')\n",
    "plt.ylabel('accuracy')\n",
    "plt.xlabel('epoch')\n",
    "plt.legend(['train', 'test'], loc='upper left')\n",
    "plt.show()\n",
    "# summarize history for loss\n",
    "plt.plot(fittedModel.history['loss'])\n",
    "plt.plot(fittedModel.history['val_loss'])\n",
    "plt.title('model loss')\n",
    "plt.ylabel('loss')\n",
    "plt.xlabel('epoch')\n",
    "plt.legend(['train', 'test'], loc='upper left')\n",
    "plt.show()\n",
    "# summarize history for AUC\n",
    "plt.plot(fittedModel.history['AUC'])\n",
    "plt.plot(fittedModel.history['val_AUC'])\n",
    "plt.title('model AUC')\n",
    "plt.ylabel('AUC')\n",
    "plt.xlabel('epoch')\n",
    "plt.legend(['train', 'test'], loc='upper left')\n",
    "plt.show()"
   ]
  },
  {
   "cell_type": "code",
   "execution_count": null,
   "id": "68dd8d64",
   "metadata": {},
   "outputs": [],
   "source": []
  },
  {
   "cell_type": "code",
   "execution_count": 206,
   "id": "22f39e31",
   "metadata": {},
   "outputs": [],
   "source": [
    "model = EEGNet(2, trial_shape[0], trial_shape[1], kernLength=256)"
   ]
  },
  {
   "cell_type": "code",
   "execution_count": null,
   "id": "a1e4cc80",
   "metadata": {},
   "outputs": [],
   "source": [
    "model.compile(loss = 'categorical_crossentropy', optimizer = 'adam', lr=0.1, metrics=['accuracy', 'AUC'])\n",
    "fittedModel    = model.fit(train_data, labels_train, validation_split=0.2, epochs=50)"
   ]
  }
 ],
 "metadata": {
  "kernelspec": {
   "display_name": "Python 3 (ipykernel)",
   "language": "python",
   "name": "python3"
  },
  "language_info": {
   "codemirror_mode": {
    "name": "ipython",
    "version": 3
   },
   "file_extension": ".py",
   "mimetype": "text/x-python",
   "name": "python",
   "nbconvert_exporter": "python",
   "pygments_lexer": "ipython3",
   "version": "3.7.11"
  }
 },
 "nbformat": 4,
 "nbformat_minor": 5
}
