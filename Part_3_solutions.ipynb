{
 "cells": [
  {
   "cell_type": "markdown",
   "id": "e4aea3ae",
   "metadata": {},
   "source": [
    "# Part 3: Neural Networks for Neural Data of a single Participant"
   ]
  },
  {
   "cell_type": "markdown",
   "id": "3b6bb4d8",
   "metadata": {},
   "source": [
    "First we load the necessary libraries"
   ]
  },
  {
   "cell_type": "code",
   "execution_count": 1,
   "id": "6e54403f",
   "metadata": {},
   "outputs": [],
   "source": [
    "import mne\n",
    "import matplotlib.pyplot as plt\n",
    "import numpy as np\n",
    "import tensorflow as tf\n",
    "from sklearn.model_selection import train_test_split\n",
    "from tensorflow.keras.utils import to_categorical\n",
    "from sklearn.metrics import classification_report, accuracy_score, precision_recall_fscore_support"
   ]
  },
  {
   "cell_type": "code",
   "execution_count": 2,
   "id": "9dcfa75e",
   "metadata": {},
   "outputs": [],
   "source": [
    "tf.random.set_seed(13)"
   ]
  },
  {
   "cell_type": "markdown",
   "id": "08d4c5a3",
   "metadata": {},
   "source": [
    "Move EEGNet to external file, and see how to get it with git"
   ]
  },
  {
   "cell_type": "code",
   "execution_count": 3,
   "id": "88ad1e28",
   "metadata": {},
   "outputs": [],
   "source": [
    "from tensorflow.keras.models import Model\n",
    "from tensorflow.keras.layers import Dense, Activation, Permute, Dropout\n",
    "from tensorflow.keras.layers import Conv2D, MaxPooling2D, AveragePooling2D\n",
    "from tensorflow.keras.layers import SeparableConv2D, DepthwiseConv2D\n",
    "from tensorflow.keras.layers import BatchNormalization\n",
    "from tensorflow.keras.layers import SpatialDropout2D\n",
    "from tensorflow.keras.regularizers import l1_l2\n",
    "from tensorflow.keras.layers import Input, Flatten\n",
    "from tensorflow.keras.constraints import max_norm\n",
    "from tensorflow.keras import backend as K"
   ]
  },
  {
   "cell_type": "code",
   "execution_count": 4,
   "id": "6bb21ed2",
   "metadata": {},
   "outputs": [],
   "source": [
    "def EEGNet(nb_classes, Chans = 64, Samples = 128, \n",
    "             dropoutRate = 0.5, kernLength = 64, F1 = 8, \n",
    "             D = 2, F2 = 16, norm_rate = 0.25, dropoutType = 'Dropout'):\n",
    "    if dropoutType == 'SpatialDropout2D':\n",
    "        dropoutType = SpatialDropout2D\n",
    "    elif dropoutType == 'Dropout':\n",
    "        dropoutType = Dropout\n",
    "    else:\n",
    "        raise ValueError('dropoutType must be one of SpatialDropout2D '\n",
    "                         'or Dropout, passed as a string.')\n",
    "    \n",
    "    input1   = Input(shape = (Chans, Samples, 1))\n",
    "\n",
    "    block1       = Conv2D(F1, (1, kernLength), padding = 'same',\n",
    "                                   input_shape = (Chans, Samples, 1),\n",
    "                                   use_bias = False)(input1)\n",
    "    block1       = BatchNormalization()(block1)\n",
    "    block1       = DepthwiseConv2D((Chans, 1), use_bias = False, \n",
    "                                   depth_multiplier = D,\n",
    "                                   depthwise_constraint = max_norm(1.))(block1)\n",
    "    block1       = BatchNormalization()(block1)\n",
    "    block1       = Activation('elu')(block1)\n",
    "    block1       = AveragePooling2D((1, 4))(block1)\n",
    "    block1       = dropoutType(dropoutRate)(block1)\n",
    "    \n",
    "    block2       = SeparableConv2D(F2, (1, 16),\n",
    "                                   use_bias = False, padding = 'same')(block1)\n",
    "    block2       = BatchNormalization()(block2)\n",
    "    block2       = Activation('elu')(block2)\n",
    "    block2       = AveragePooling2D((1, 8))(block2)\n",
    "    block2       = dropoutType(dropoutRate)(block2)\n",
    "        \n",
    "    flatten      = Flatten(name = 'flatten')(block2)\n",
    "    \n",
    "    dense        = Dense(nb_classes, name = 'dense', \n",
    "                         kernel_constraint = max_norm(norm_rate))(flatten)\n",
    "    softmax      = Activation('softmax', name = 'softmax')(dense)\n",
    "    \n",
    "    return Model(inputs=input1, outputs=softmax)"
   ]
  },
  {
   "cell_type": "markdown",
   "id": "a0e8437b",
   "metadata": {},
   "source": [
    "#### Exercise 1: Training the first neural network on patient 902"
   ]
  },
  {
   "cell_type": "markdown",
   "id": "1b58dec5",
   "metadata": {},
   "source": [
    "- Load the .fif file that we used before. \n",
    "- Extract the data and labels\n",
    "- As descibed in the lecture we need to normalize the data (each trial seperately)\n",
    "- And we should use one-hot encoded labels, we can use the function 'to_categorical' from tensorflow.keras.utils"
   ]
  },
  {
   "cell_type": "code",
   "execution_count": 5,
   "id": "795462cf",
   "metadata": {},
   "outputs": [],
   "source": [
    "data_file = 'PDDys/902-P'\n",
    "#data_file = 'https://github.com/fma0/AMLD/blob/main/PDDys/902-P'"
   ]
  },
  {
   "cell_type": "code",
   "execution_count": 6,
   "id": "779e04ff",
   "metadata": {},
   "outputs": [],
   "source": [
    "# solution\n",
    "def normalize(volume):\n",
    "    stdev = np.std(volume, dtype=np.float64)\n",
    "    mean = np.mean(volume, dtype=np.float64)\n",
    "    return (volume - np.float32(mean)) / np.float32(stdev)"
   ]
  },
  {
   "cell_type": "code",
   "execution_count": 7,
   "id": "f7cc0b12",
   "metadata": {},
   "outputs": [],
   "source": [
    "# solution\n",
    "epochs = mne.read_epochs(data_file + '.fif', verbose='error')\n",
    "data = np.expand_dims(epochs.get_data(), axis=-1)\n",
    "labels = np.where(epochs.events[:,-1] == 201, 0, 1)\n",
    "trial_shape = data.shape[1:]\n",
    "labels = to_categorical(labels)\n",
    "for i, sample in enumerate(data):\n",
    "    data[i] = normalize(sample)"
   ]
  },
  {
   "cell_type": "markdown",
   "id": "752bf94a",
   "metadata": {},
   "source": [
    "In the next step you should create the train and test sets"
   ]
  },
  {
   "cell_type": "code",
   "execution_count": 8,
   "id": "4d5ea11a",
   "metadata": {},
   "outputs": [],
   "source": [
    "# solution\n",
    "train_data, test_data, labels_train, labels_test = train_test_split(data, labels, \n",
    "                                                                    test_size=0.3, \n",
    "                                                                    random_state=42)\n"
   ]
  },
  {
   "cell_type": "markdown",
   "id": "965702c2",
   "metadata": {},
   "source": [
    "Now let's define the model, it takes as input : the number of classes, the number of recorded EEG channels and the number of time points per trial.\n",
    "\n",
    "We are using EEGNet, which was developped by Lawhern et. al. (2017) https://github.com/vlawhern/arl-eegmodels"
   ]
  },
  {
   "cell_type": "code",
   "execution_count": 9,
   "id": "0b11342c",
   "metadata": {},
   "outputs": [],
   "source": [
    "# solution\n",
    "n_classes = 2\n",
    "n_channels = data.shape[1]\n",
    "n_timepoints = data.shape[2]"
   ]
  },
  {
   "cell_type": "code",
   "execution_count": 10,
   "id": "130d5344",
   "metadata": {},
   "outputs": [
    {
     "name": "stderr",
     "output_type": "stream",
     "text": [
      "2022-03-23 16:43:34.957769: I tensorflow/core/platform/cpu_feature_guard.cc:145] This TensorFlow binary is optimized with Intel(R) MKL-DNN to use the following CPU instructions in performance critical operations:  SSE4.1 SSE4.2 AVX AVX2 FMA\n",
      "To enable them in non-MKL-DNN operations, rebuild TensorFlow with the appropriate compiler flags.\n",
      "2022-03-23 16:43:34.958009: I tensorflow/core/common_runtime/process_util.cc:115] Creating new thread pool with default inter op setting: 8. Tune using inter_op_parallelism_threads for best performance.\n"
     ]
    }
   ],
   "source": [
    "model = EEGNet(n_classes, n_channels, n_timepoints)"
   ]
  },
  {
   "cell_type": "markdown",
   "id": "43fc5e41",
   "metadata": {},
   "source": [
    "Before training we need to compile the network, there we specify the loss, optimizer, learning rate and any other metric that we would like to keep track of. \n",
    "We currently keep track of the accuracy and the AUC score, you are free to add anything else you find meaningfull. Check out https://www.tensorflow.org/api_docs/python/tf/keras/metrics for a list of possibilities. "
   ]
  },
  {
   "cell_type": "code",
   "execution_count": 11,
   "id": "8eaefcae",
   "metadata": {},
   "outputs": [],
   "source": [
    "model.compile(loss = 'categorical_crossentropy', optimizer = 'adam', lr=0.1, metrics=['accuracy', 'AUC'])"
   ]
  },
  {
   "cell_type": "markdown",
   "id": "5bca91d5",
   "metadata": {},
   "source": [
    "Then we train the model for 50 epochs. We set the percentage of trials for the validation set with the variable validation_split (here 20%). "
   ]
  },
  {
   "cell_type": "code",
   "execution_count": 12,
   "id": "ab0a71b1",
   "metadata": {},
   "outputs": [
    {
     "name": "stdout",
     "output_type": "stream",
     "text": [
      "Train on 85 samples, validate on 22 samples\n",
      "Epoch 1/50\n",
      "85/85 [==============================] - 3s 38ms/sample - loss: 0.7038 - accuracy: 0.5882 - AUC: 0.6188 - val_loss: 0.6889 - val_accuracy: 0.7727 - val_AUC: 0.7097\n",
      "Epoch 2/50\n",
      "85/85 [==============================] - 1s 9ms/sample - loss: 0.6498 - accuracy: 0.6706 - AUC: 0.7508 - val_loss: 0.6871 - val_accuracy: 0.7727 - val_AUC: 0.7469\n",
      "Epoch 3/50\n",
      "85/85 [==============================] - 1s 9ms/sample - loss: 0.6174 - accuracy: 0.7882 - AUC: 0.8257 - val_loss: 0.6853 - val_accuracy: 0.7727 - val_AUC: 0.7304\n",
      "Epoch 4/50\n",
      "85/85 [==============================] - 1s 9ms/sample - loss: 0.5880 - accuracy: 0.7882 - AUC: 0.8574 - val_loss: 0.6832 - val_accuracy: 0.7727 - val_AUC: 0.7211\n",
      "Epoch 5/50\n",
      "85/85 [==============================] - 1s 9ms/sample - loss: 0.5540 - accuracy: 0.8118 - AUC: 0.8720 - val_loss: 0.6808 - val_accuracy: 0.7727 - val_AUC: 0.7293\n",
      "Epoch 6/50\n",
      "85/85 [==============================] - 1s 9ms/sample - loss: 0.5378 - accuracy: 0.8353 - AUC: 0.8791 - val_loss: 0.6780 - val_accuracy: 0.7727 - val_AUC: 0.7479\n",
      "Epoch 7/50\n",
      "85/85 [==============================] - 1s 9ms/sample - loss: 0.5211 - accuracy: 0.8471 - AUC: 0.8727 - val_loss: 0.6747 - val_accuracy: 0.7727 - val_AUC: 0.7521\n",
      "Epoch 8/50\n",
      "85/85 [==============================] - 1s 9ms/sample - loss: 0.5073 - accuracy: 0.8353 - AUC: 0.8646 - val_loss: 0.6710 - val_accuracy: 0.7727 - val_AUC: 0.7459\n",
      "Epoch 9/50\n",
      "85/85 [==============================] - 1s 9ms/sample - loss: 0.5087 - accuracy: 0.8471 - AUC: 0.8525 - val_loss: 0.6670 - val_accuracy: 0.7727 - val_AUC: 0.7562\n",
      "Epoch 10/50\n",
      "85/85 [==============================] - 1s 8ms/sample - loss: 0.4804 - accuracy: 0.8471 - AUC: 0.8764 - val_loss: 0.6625 - val_accuracy: 0.7727 - val_AUC: 0.7541\n",
      "Epoch 11/50\n",
      "85/85 [==============================] - 1s 8ms/sample - loss: 0.4478 - accuracy: 0.8471 - AUC: 0.9192 - val_loss: 0.6579 - val_accuracy: 0.7727 - val_AUC: 0.7893\n",
      "Epoch 12/50\n",
      "85/85 [==============================] - 1s 9ms/sample - loss: 0.4757 - accuracy: 0.8471 - AUC: 0.8667 - val_loss: 0.6528 - val_accuracy: 0.7727 - val_AUC: 0.7934\n",
      "Epoch 13/50\n",
      "85/85 [==============================] - 1s 9ms/sample - loss: 0.4396 - accuracy: 0.8471 - AUC: 0.9167 - val_loss: 0.6478 - val_accuracy: 0.7727 - val_AUC: 0.7893\n",
      "Epoch 14/50\n",
      "85/85 [==============================] - 1s 8ms/sample - loss: 0.4248 - accuracy: 0.8471 - AUC: 0.9224 - val_loss: 0.6427 - val_accuracy: 0.7727 - val_AUC: 0.7893\n",
      "Epoch 15/50\n",
      "85/85 [==============================] - 1s 9ms/sample - loss: 0.4228 - accuracy: 0.8471 - AUC: 0.9222 - val_loss: 0.6374 - val_accuracy: 0.7727 - val_AUC: 0.8017\n",
      "Epoch 16/50\n",
      "85/85 [==============================] - 1s 9ms/sample - loss: 0.4296 - accuracy: 0.8471 - AUC: 0.8999 - val_loss: 0.6320 - val_accuracy: 0.7727 - val_AUC: 0.8099\n",
      "Epoch 17/50\n",
      "85/85 [==============================] - 1s 9ms/sample - loss: 0.4118 - accuracy: 0.8471 - AUC: 0.9165 - val_loss: 0.6267 - val_accuracy: 0.7727 - val_AUC: 0.8058\n",
      "Epoch 18/50\n",
      "85/85 [==============================] - 1s 9ms/sample - loss: 0.4113 - accuracy: 0.8471 - AUC: 0.9243 - val_loss: 0.6217 - val_accuracy: 0.7727 - val_AUC: 0.8099\n",
      "Epoch 19/50\n",
      "85/85 [==============================] - 1s 8ms/sample - loss: 0.3876 - accuracy: 0.8471 - AUC: 0.9337 - val_loss: 0.6180 - val_accuracy: 0.7727 - val_AUC: 0.8161\n",
      "Epoch 20/50\n",
      "85/85 [==============================] - 1s 9ms/sample - loss: 0.3896 - accuracy: 0.8471 - AUC: 0.9320 - val_loss: 0.6145 - val_accuracy: 0.7727 - val_AUC: 0.8120\n",
      "Epoch 21/50\n",
      "85/85 [==============================] - 1s 9ms/sample - loss: 0.3804 - accuracy: 0.8471 - AUC: 0.9282 - val_loss: 0.6118 - val_accuracy: 0.7727 - val_AUC: 0.8079\n",
      "Epoch 22/50\n",
      "85/85 [==============================] - 1s 10ms/sample - loss: 0.3839 - accuracy: 0.8471 - AUC: 0.9305 - val_loss: 0.6090 - val_accuracy: 0.7727 - val_AUC: 0.8099\n",
      "Epoch 23/50\n",
      "85/85 [==============================] - 1s 10ms/sample - loss: 0.3620 - accuracy: 0.8471 - AUC: 0.9498 - val_loss: 0.6054 - val_accuracy: 0.7727 - val_AUC: 0.8079\n",
      "Epoch 24/50\n",
      "85/85 [==============================] - 1s 10ms/sample - loss: 0.3694 - accuracy: 0.8471 - AUC: 0.9438 - val_loss: 0.6017 - val_accuracy: 0.7727 - val_AUC: 0.8037\n",
      "Epoch 25/50\n",
      "85/85 [==============================] - 1s 9ms/sample - loss: 0.3772 - accuracy: 0.8471 - AUC: 0.9394 - val_loss: 0.5975 - val_accuracy: 0.7727 - val_AUC: 0.8079\n",
      "Epoch 26/50\n",
      "85/85 [==============================] - 1s 9ms/sample - loss: 0.3562 - accuracy: 0.8471 - AUC: 0.9437 - val_loss: 0.5934 - val_accuracy: 0.7727 - val_AUC: 0.7996\n",
      "Epoch 27/50\n",
      "85/85 [==============================] - 1s 10ms/sample - loss: 0.3465 - accuracy: 0.8471 - AUC: 0.9570 - val_loss: 0.5891 - val_accuracy: 0.7727 - val_AUC: 0.8058\n",
      "Epoch 28/50\n",
      "85/85 [==============================] - 1s 10ms/sample - loss: 0.3551 - accuracy: 0.8471 - AUC: 0.9516 - val_loss: 0.5852 - val_accuracy: 0.7727 - val_AUC: 0.8037\n",
      "Epoch 29/50\n",
      "85/85 [==============================] - 1s 9ms/sample - loss: 0.3437 - accuracy: 0.8471 - AUC: 0.9581 - val_loss: 0.5826 - val_accuracy: 0.7727 - val_AUC: 0.8037\n",
      "Epoch 30/50\n",
      "85/85 [==============================] - 1s 9ms/sample - loss: 0.3349 - accuracy: 0.8588 - AUC: 0.9654 - val_loss: 0.5810 - val_accuracy: 0.7727 - val_AUC: 0.8058\n",
      "Epoch 31/50\n",
      "85/85 [==============================] - 1s 9ms/sample - loss: 0.3471 - accuracy: 0.8588 - AUC: 0.9525 - val_loss: 0.5792 - val_accuracy: 0.7727 - val_AUC: 0.8079\n",
      "Epoch 32/50\n",
      "85/85 [==============================] - 1s 9ms/sample - loss: 0.3122 - accuracy: 0.8471 - AUC: 0.9643 - val_loss: 0.5769 - val_accuracy: 0.7727 - val_AUC: 0.8161\n",
      "Epoch 33/50\n",
      "85/85 [==============================] - 1s 9ms/sample - loss: 0.3148 - accuracy: 0.8824 - AUC: 0.9653 - val_loss: 0.5742 - val_accuracy: 0.7727 - val_AUC: 0.8202\n",
      "Epoch 34/50\n",
      "85/85 [==============================] - 1s 8ms/sample - loss: 0.3135 - accuracy: 0.8588 - AUC: 0.9673 - val_loss: 0.5703 - val_accuracy: 0.7727 - val_AUC: 0.8182\n",
      "Epoch 35/50\n",
      "85/85 [==============================] - 1s 8ms/sample - loss: 0.2999 - accuracy: 0.8941 - AUC: 0.9750 - val_loss: 0.5671 - val_accuracy: 0.7727 - val_AUC: 0.8223\n",
      "Epoch 36/50\n",
      "85/85 [==============================] - 1s 8ms/sample - loss: 0.3001 - accuracy: 0.8941 - AUC: 0.9697 - val_loss: 0.5623 - val_accuracy: 0.7727 - val_AUC: 0.8244\n",
      "Epoch 37/50\n",
      "85/85 [==============================] - 1s 9ms/sample - loss: 0.2862 - accuracy: 0.8941 - AUC: 0.9759 - val_loss: 0.5563 - val_accuracy: 0.7727 - val_AUC: 0.8223\n",
      "Epoch 38/50\n",
      "85/85 [==============================] - 1s 9ms/sample - loss: 0.2945 - accuracy: 0.8706 - AUC: 0.9715 - val_loss: 0.5517 - val_accuracy: 0.7727 - val_AUC: 0.8306\n",
      "Epoch 39/50\n",
      "85/85 [==============================] - 1s 9ms/sample - loss: 0.2703 - accuracy: 0.8941 - AUC: 0.9772 - val_loss: 0.5499 - val_accuracy: 0.7727 - val_AUC: 0.8326\n",
      "Epoch 40/50\n",
      "85/85 [==============================] - 1s 8ms/sample - loss: 0.2694 - accuracy: 0.8941 - AUC: 0.9762 - val_loss: 0.5462 - val_accuracy: 0.7727 - val_AUC: 0.8347\n",
      "Epoch 41/50\n",
      "85/85 [==============================] - 1s 9ms/sample - loss: 0.2930 - accuracy: 0.8588 - AUC: 0.9701 - val_loss: 0.5432 - val_accuracy: 0.7727 - val_AUC: 0.8326\n",
      "Epoch 42/50\n",
      "85/85 [==============================] - 1s 8ms/sample - loss: 0.2646 - accuracy: 0.9059 - AUC: 0.9808 - val_loss: 0.5413 - val_accuracy: 0.7727 - val_AUC: 0.8347\n",
      "Epoch 43/50\n",
      "85/85 [==============================] - 1s 9ms/sample - loss: 0.2659 - accuracy: 0.9059 - AUC: 0.9812 - val_loss: 0.5397 - val_accuracy: 0.7727 - val_AUC: 0.8368\n",
      "Epoch 44/50\n",
      "85/85 [==============================] - 1s 9ms/sample - loss: 0.2467 - accuracy: 0.9176 - AUC: 0.9841 - val_loss: 0.5387 - val_accuracy: 0.7727 - val_AUC: 0.8409\n",
      "Epoch 45/50\n",
      "85/85 [==============================] - 1s 8ms/sample - loss: 0.2554 - accuracy: 0.9059 - AUC: 0.9841 - val_loss: 0.5363 - val_accuracy: 0.7727 - val_AUC: 0.8471\n",
      "Epoch 46/50\n",
      "85/85 [==============================] - 1s 9ms/sample - loss: 0.2616 - accuracy: 0.9059 - AUC: 0.9794 - val_loss: 0.5362 - val_accuracy: 0.7727 - val_AUC: 0.8450\n",
      "Epoch 47/50\n",
      "85/85 [==============================] - 1s 8ms/sample - loss: 0.2467 - accuracy: 0.9059 - AUC: 0.9893 - val_loss: 0.5364 - val_accuracy: 0.7727 - val_AUC: 0.8409\n",
      "Epoch 48/50\n",
      "85/85 [==============================] - 1s 9ms/sample - loss: 0.2447 - accuracy: 0.9176 - AUC: 0.9866 - val_loss: 0.5329 - val_accuracy: 0.7727 - val_AUC: 0.8430\n",
      "Epoch 49/50\n",
      "85/85 [==============================] - 1s 9ms/sample - loss: 0.2462 - accuracy: 0.9176 - AUC: 0.9887 - val_loss: 0.5269 - val_accuracy: 0.7727 - val_AUC: 0.8430\n",
      "Epoch 50/50\n",
      "85/85 [==============================] - 1s 9ms/sample - loss: 0.2218 - accuracy: 0.9294 - AUC: 0.9921 - val_loss: 0.5245 - val_accuracy: 0.7727 - val_AUC: 0.8471\n"
     ]
    }
   ],
   "source": [
    "history = model.fit(train_data, labels_train, validation_split=0.2, epochs=50)"
   ]
  },
  {
   "cell_type": "markdown",
   "id": "e8f75643",
   "metadata": {},
   "source": [
    "Let's evaluate how the learning of the model progressed during the training. The history variable contains the progresssion of the models evaluated on the metrics, that we gave to the model before as well as the loss. The history contains the vlues for the train and validation (called with a prefix of 'val_') metrics. We can see all that it keeps track of with:"
   ]
  },
  {
   "cell_type": "code",
   "execution_count": 13,
   "id": "80d46a19",
   "metadata": {},
   "outputs": [
    {
     "data": {
      "text/plain": [
       "dict_keys(['loss', 'accuracy', 'AUC', 'val_loss', 'val_accuracy', 'val_AUC'])"
      ]
     },
     "execution_count": 13,
     "metadata": {},
     "output_type": "execute_result"
    }
   ],
   "source": [
    "history.history.keys()"
   ]
  },
  {
   "cell_type": "code",
   "execution_count": 14,
   "id": "00b834bb",
   "metadata": {},
   "outputs": [],
   "source": [
    "def plot_history(history, key):\n",
    "    fig, ax = plt.subplots(figsize=(7, 5))\n",
    "    ax.set_xlabel('Epochs')\n",
    "    ax.set_ylabel(key.capitalize())\n",
    "\n",
    "    plt.plot(history.history[key], color='C0', label = 'Train', linewidth=2)\n",
    "    plt.plot(history.history['val_'+key], color='C3', label='Validation', linewidth=2)\n",
    "\n",
    "    legend = ax.legend(fontsize='medium')\n",
    "    ax.set_title('Model ' + key.capitalize())\n",
    "    plt.show()"
   ]
  },
  {
   "cell_type": "code",
   "execution_count": 15,
   "id": "77603091",
   "metadata": {},
   "outputs": [
    {
     "data": {
      "image/png": "[encoded data removed]",
      "text/plain": [
       "<Figure size 504x360 with 1 Axes>"
      ]
     },
     "metadata": {
      "needs_background": "light"
     },
     "output_type": "display_data"
    }
   ],
   "source": [
    "plot_history(history, 'accuracy')"
   ]
  },
  {
   "cell_type": "code",
   "execution_count": 16,
   "id": "075751af",
   "metadata": {},
   "outputs": [
    {
     "data": {
      "image/png": "[encoded data removed]",
      "text/plain": [
       "<Figure size 504x360 with 1 Axes>"
      ]
     },
     "metadata": {
      "needs_background": "light"
     },
     "output_type": "display_data"
    }
   ],
   "source": [
    "plot_history(history, 'AUC')"
   ]
  },
  {
   "cell_type": "code",
   "execution_count": 17,
   "id": "1b11f55d",
   "metadata": {},
   "outputs": [
    {
     "data": {
      "image/png": "[encoded data removed]",
      "text/plain": [
       "<Figure size 504x360 with 1 Axes>"
      ]
     },
     "metadata": {
      "needs_background": "light"
     },
     "output_type": "display_data"
    }
   ],
   "source": [
    "plot_history(history, 'loss')"
   ]
  },
  {
   "cell_type": "markdown",
   "id": "7df83767",
   "metadata": {},
   "source": [
    "Now we test the networks performance on the test set. We use the same function as in the previous notebook :"
   ]
  },
  {
   "cell_type": "code",
   "execution_count": 18,
   "id": "7af14e8d",
   "metadata": {},
   "outputs": [],
   "source": [
    "predictions = np.argmax(model.predict(test_data), axis=1)"
   ]
  },
  {
   "cell_type": "code",
   "execution_count": 19,
   "id": "69be7a01",
   "metadata": {},
   "outputs": [
    {
     "name": "stdout",
     "output_type": "stream",
     "text": [
      "[0 0 1 0 0 0 0 0 0 0 0 0 0 0 0 0 0 0 0 0 0 0 0 0 1 0 0 0 0 0 0 0 0 0 0 0 0\n",
      " 0 0 0 0 0 0 0 0 0 0]\n"
     ]
    }
   ],
   "source": [
    "print(predictions)"
   ]
  },
  {
   "cell_type": "code",
   "execution_count": 20,
   "id": "00ac8aa8",
   "metadata": {},
   "outputs": [
    {
     "name": "stdout",
     "output_type": "stream",
     "text": [
      "EEGNet Clasification Report:\n",
      "               precision    recall  f1-score   support\n",
      "\n",
      "    Standard       0.84      1.00      0.92        38\n",
      "       Novel       1.00      0.22      0.36         9\n",
      "\n",
      "    accuracy                           0.85        47\n",
      "   macro avg       0.92      0.61      0.64        47\n",
      "weighted avg       0.87      0.85      0.81        47\n",
      "\n",
      "Accuracy of EEGNet model: 0.851063829787234\n",
      "Precision: 0.9222222222222223, Recall: 0.6111111111111112, f1-score:0.6396495071193866\n"
     ]
    }
   ],
   "source": [
    "labels_test_true = np.argmax(labels_test, axis=1)\n",
    "report_eegnet = classification_report(labels_test_true, predictions, target_names=['Standard', 'Novel'])\n",
    "print('EEGNet Clasification Report:\\n {}'.format(report_eegnet))\n",
    "\n",
    "acc_eegnet = accuracy_score(labels_test_true, predictions)\n",
    "print(\"Accuracy of EEGNet model: {}\".format(acc_eegnet))\n",
    "\n",
    "precision_eegnet,recall_eegnet,fscore_eegnet,support_eegnet=precision_recall_fscore_support(labels_test_true,\n",
    "                                                                                predictions,\n",
    "                                                                                average='macro')\n",
    "print('Precision: {0}, Recall: {1}, f1-score:{2}'.format(precision_eegnet,recall_eegnet,fscore_eegnet))"
   ]
  },
  {
   "cell_type": "code",
   "execution_count": 21,
   "id": "6c1aec78",
   "metadata": {},
   "outputs": [],
   "source": [
    "accuracies, f1_scores = [], []\n",
    "accuracies.append([acc_eegnet])\n",
    "f1_scores.append([fscore_eegnet])"
   ]
  },
  {
   "cell_type": "markdown",
   "id": "b88622f4",
   "metadata": {},
   "source": [
    "How does this compare to the performance of the machine learning algorithms?"
   ]
  },
  {
   "cell_type": "markdown",
   "id": "252cc06b",
   "metadata": {},
   "source": [
    "#### Excercise 2: Let's optimize the Model"
   ]
  },
  {
   "cell_type": "markdown",
   "id": "631e7da5",
   "metadata": {},
   "source": [
    "From the documentation of EEGNet we have: \n",
    "\n",
    "    def EEGNet(nb_classes, Chans = 64, Samples = 128, \n",
    "               dropoutRate = 0.5, kernLength = 64, F1 = 8, \n",
    "               D = 2, F2 = 16, norm_rate = 0.25, dropoutType = 'Dropout'):\n",
    " \n",
    "    [...]\n",
    "\n",
    "    Assumes the input signal is sampled at 128Hz. If you want to use this model\n",
    "    for any other sampling rate you will need to modify the lengths of temporal\n",
    "    kernels and [...] (double the kernel lengths for double the sampling rate, etc). \n",
    "    Note that we haven't tested the model performance with this rule so this may not work well. \n",
    "    \n",
    "    [...] \n",
    "    \n",
    "    Inputs:\n",
    "        \n",
    "      nb_classes      : int, number of classes to classify\n",
    "      Chans, Samples  : number of channels and time points in the EEG data\n",
    "      dropoutRate     : dropout fraction\n",
    "      kernLength      : length of temporal convolution in first layer. We found\n",
    "                        that setting this to be half the sampling rate worked\n",
    "                        well in practice. For the SMR dataset in particular\n",
    "                        since the data was high-passed at 4Hz we used a kernel\n",
    "                        length of 32.     \n",
    "      F1, F2          : number of temporal filters (F1) and number of pointwise\n",
    "                        filters (F2) to learn. Default: F1 = 8, F2 = F1 * D. \n",
    "      D               : number of spatial filters to learn within each temporal\n",
    "                        convolution. Default: D = 2\n",
    "      dropoutType     : Either SpatialDropout2D or Dropout, passed as a string.\n",
    "      \n",
    "Note that the kernLength needs to be an integer"
   ]
  },
  {
   "cell_type": "code",
   "execution_count": 22,
   "id": "c6cdd4f1",
   "metadata": {},
   "outputs": [],
   "source": [
    "# solution\n",
    "kernLength = int(epochs.info['sfreq']/2)"
   ]
  },
  {
   "cell_type": "code",
   "execution_count": 23,
   "id": "7fd4ceb7",
   "metadata": {},
   "outputs": [],
   "source": [
    "del model, history"
   ]
  },
  {
   "cell_type": "code",
   "execution_count": 24,
   "id": "9834091c",
   "metadata": {},
   "outputs": [],
   "source": [
    "model = EEGNet(n_classes, n_channels, n_timepoints, kernLength=kernLength)"
   ]
  },
  {
   "cell_type": "code",
   "execution_count": 25,
   "id": "96383451",
   "metadata": {},
   "outputs": [],
   "source": [
    "model.compile(loss = 'categorical_crossentropy', optimizer = 'adam', lr=0.1, metrics=['accuracy', 'AUC'])"
   ]
  },
  {
   "cell_type": "code",
   "execution_count": 26,
   "id": "99235426",
   "metadata": {
    "scrolled": true
   },
   "outputs": [
    {
     "name": "stdout",
     "output_type": "stream",
     "text": [
      "Train on 85 samples, validate on 22 samples\n",
      "Epoch 1/50\n",
      "85/85 [==============================] - 4s 45ms/sample - loss: 0.9347 - accuracy: 0.4000 - AUC: 0.3743 - val_loss: 0.6858 - val_accuracy: 0.7727 - val_AUC: 0.7665\n",
      "Epoch 2/50\n",
      "85/85 [==============================] - 2s 18ms/sample - loss: 0.6687 - accuracy: 0.6235 - AUC: 0.6472 - val_loss: 0.6811 - val_accuracy: 0.7727 - val_AUC: 0.7944\n",
      "Epoch 3/50\n",
      "85/85 [==============================] - 1s 17ms/sample - loss: 0.6378 - accuracy: 0.7059 - AUC: 0.7547 - val_loss: 0.6769 - val_accuracy: 0.7727 - val_AUC: 0.8213\n",
      "Epoch 4/50\n",
      "85/85 [==============================] - 2s 19ms/sample - loss: 0.5976 - accuracy: 0.7647 - AUC: 0.8415 - val_loss: 0.6728 - val_accuracy: 0.8182 - val_AUC: 0.8223\n",
      "Epoch 5/50\n",
      "85/85 [==============================] - 2s 19ms/sample - loss: 0.5408 - accuracy: 0.8588 - AUC: 0.8977 - val_loss: 0.6686 - val_accuracy: 0.8182 - val_AUC: 0.8326\n",
      "Epoch 6/50\n",
      "85/85 [==============================] - 2s 18ms/sample - loss: 0.5249 - accuracy: 0.8353 - AUC: 0.9122 - val_loss: 0.6649 - val_accuracy: 0.8182 - val_AUC: 0.8140\n",
      "Epoch 7/50\n",
      "85/85 [==============================] - 2s 19ms/sample - loss: 0.5100 - accuracy: 0.8706 - AUC: 0.8874 - val_loss: 0.6601 - val_accuracy: 0.8182 - val_AUC: 0.8264\n",
      "Epoch 8/50\n",
      "85/85 [==============================] - 2s 18ms/sample - loss: 0.4823 - accuracy: 0.8588 - AUC: 0.9016 - val_loss: 0.6560 - val_accuracy: 0.8182 - val_AUC: 0.8182\n",
      "Epoch 9/50\n",
      "85/85 [==============================] - 2s 19ms/sample - loss: 0.4678 - accuracy: 0.8353 - AUC: 0.9202 - val_loss: 0.6490 - val_accuracy: 0.8182 - val_AUC: 0.8182\n",
      "Epoch 10/50\n",
      "85/85 [==============================] - 2s 18ms/sample - loss: 0.4536 - accuracy: 0.8588 - AUC: 0.9300 - val_loss: 0.6406 - val_accuracy: 0.8182 - val_AUC: 0.8244\n",
      "Epoch 11/50\n",
      "85/85 [==============================] - 2s 18ms/sample - loss: 0.4312 - accuracy: 0.8824 - AUC: 0.9145 - val_loss: 0.6345 - val_accuracy: 0.8182 - val_AUC: 0.8306\n",
      "Epoch 12/50\n",
      "85/85 [==============================] - 2s 18ms/sample - loss: 0.4152 - accuracy: 0.8706 - AUC: 0.9380 - val_loss: 0.6267 - val_accuracy: 0.8182 - val_AUC: 0.8326\n",
      "Epoch 13/50\n",
      "85/85 [==============================] - 2s 19ms/sample - loss: 0.4075 - accuracy: 0.8471 - AUC: 0.9348 - val_loss: 0.6198 - val_accuracy: 0.8182 - val_AUC: 0.8430\n",
      "Epoch 14/50\n",
      "85/85 [==============================] - 2s 21ms/sample - loss: 0.3852 - accuracy: 0.8824 - AUC: 0.9455 - val_loss: 0.6137 - val_accuracy: 0.8182 - val_AUC: 0.8512\n",
      "Epoch 15/50\n",
      "85/85 [==============================] - 2s 20ms/sample - loss: 0.3898 - accuracy: 0.8706 - AUC: 0.9398 - val_loss: 0.6101 - val_accuracy: 0.7727 - val_AUC: 0.8574\n",
      "Epoch 16/50\n",
      "85/85 [==============================] - 2s 19ms/sample - loss: 0.3771 - accuracy: 0.8588 - AUC: 0.9499 - val_loss: 0.6046 - val_accuracy: 0.7727 - val_AUC: 0.8616\n",
      "Epoch 17/50\n",
      "85/85 [==============================] - 2s 21ms/sample - loss: 0.3680 - accuracy: 0.8824 - AUC: 0.9584 - val_loss: 0.5931 - val_accuracy: 0.7727 - val_AUC: 0.8533\n",
      "Epoch 18/50\n",
      "85/85 [==============================] - 2s 20ms/sample - loss: 0.3620 - accuracy: 0.8824 - AUC: 0.9578 - val_loss: 0.5830 - val_accuracy: 0.7727 - val_AUC: 0.8564\n",
      "Epoch 19/50\n",
      "85/85 [==============================] - 2s 23ms/sample - loss: 0.3566 - accuracy: 0.8824 - AUC: 0.9610 - val_loss: 0.5775 - val_accuracy: 0.7727 - val_AUC: 0.8616\n",
      "Epoch 20/50\n",
      "85/85 [==============================] - 2s 21ms/sample - loss: 0.3446 - accuracy: 0.8706 - AUC: 0.9584 - val_loss: 0.5706 - val_accuracy: 0.7727 - val_AUC: 0.8719\n",
      "Epoch 21/50\n",
      "85/85 [==============================] - 2s 19ms/sample - loss: 0.3385 - accuracy: 0.8706 - AUC: 0.9622 - val_loss: 0.5662 - val_accuracy: 0.7727 - val_AUC: 0.8884\n",
      "Epoch 22/50\n",
      "85/85 [==============================] - 2s 19ms/sample - loss: 0.3186 - accuracy: 0.8941 - AUC: 0.9683 - val_loss: 0.5611 - val_accuracy: 0.7727 - val_AUC: 0.8905\n",
      "Epoch 23/50\n",
      "85/85 [==============================] - 2s 19ms/sample - loss: 0.3188 - accuracy: 0.8824 - AUC: 0.9655 - val_loss: 0.5481 - val_accuracy: 0.8182 - val_AUC: 0.8802\n",
      "Epoch 24/50\n",
      "85/85 [==============================] - 2s 18ms/sample - loss: 0.2999 - accuracy: 0.9059 - AUC: 0.9749 - val_loss: 0.5448 - val_accuracy: 0.8182 - val_AUC: 0.8802\n",
      "Epoch 25/50\n",
      "85/85 [==============================] - 2s 19ms/sample - loss: 0.3107 - accuracy: 0.9176 - AUC: 0.9699 - val_loss: 0.5425 - val_accuracy: 0.8182 - val_AUC: 0.8864\n",
      "Epoch 26/50\n",
      "85/85 [==============================] - 2s 20ms/sample - loss: 0.2709 - accuracy: 0.9294 - AUC: 0.9803 - val_loss: 0.5385 - val_accuracy: 0.8182 - val_AUC: 0.8905\n",
      "Epoch 27/50\n",
      "85/85 [==============================] - 2s 21ms/sample - loss: 0.2731 - accuracy: 0.8941 - AUC: 0.9838 - val_loss: 0.5313 - val_accuracy: 0.8182 - val_AUC: 0.8843\n",
      "Epoch 28/50\n",
      "85/85 [==============================] - 2s 19ms/sample - loss: 0.2687 - accuracy: 0.9294 - AUC: 0.9856 - val_loss: 0.5253 - val_accuracy: 0.8182 - val_AUC: 0.8884\n",
      "Epoch 29/50\n",
      "85/85 [==============================] - 1s 17ms/sample - loss: 0.2532 - accuracy: 0.9294 - AUC: 0.9864 - val_loss: 0.5187 - val_accuracy: 0.8182 - val_AUC: 0.8822\n",
      "Epoch 30/50\n",
      "85/85 [==============================] - 2s 18ms/sample - loss: 0.2741 - accuracy: 0.8941 - AUC: 0.9769 - val_loss: 0.5204 - val_accuracy: 0.8182 - val_AUC: 0.8864\n",
      "Epoch 31/50\n",
      "85/85 [==============================] - 2s 18ms/sample - loss: 0.2521 - accuracy: 0.9294 - AUC: 0.9907 - val_loss: 0.5191 - val_accuracy: 0.8182 - val_AUC: 0.8864\n",
      "Epoch 32/50\n",
      "85/85 [==============================] - 2s 20ms/sample - loss: 0.2370 - accuracy: 0.9412 - AUC: 0.9891 - val_loss: 0.5149 - val_accuracy: 0.8182 - val_AUC: 0.8884\n",
      "Epoch 33/50\n",
      "85/85 [==============================] - 2s 19ms/sample - loss: 0.2251 - accuracy: 0.9176 - AUC: 0.9924 - val_loss: 0.5086 - val_accuracy: 0.8182 - val_AUC: 0.8905\n",
      "Epoch 34/50\n",
      "85/85 [==============================] - 2s 18ms/sample - loss: 0.2281 - accuracy: 0.9412 - AUC: 0.9882 - val_loss: 0.4954 - val_accuracy: 0.8636 - val_AUC: 0.8926\n",
      "Epoch 35/50\n",
      "85/85 [==============================] - 2s 19ms/sample - loss: 0.2129 - accuracy: 0.9529 - AUC: 0.9945 - val_loss: 0.4900 - val_accuracy: 0.8636 - val_AUC: 0.8926\n",
      "Epoch 36/50\n",
      "85/85 [==============================] - 2s 19ms/sample - loss: 0.2045 - accuracy: 0.9882 - AUC: 0.9979 - val_loss: 0.4857 - val_accuracy: 0.8636 - val_AUC: 0.8988\n",
      "Epoch 37/50\n",
      "85/85 [==============================] - 2s 18ms/sample - loss: 0.2173 - accuracy: 0.9647 - AUC: 0.9918 - val_loss: 0.4853 - val_accuracy: 0.8182 - val_AUC: 0.8998\n",
      "Epoch 38/50\n",
      "85/85 [==============================] - 2s 19ms/sample - loss: 0.2076 - accuracy: 0.9529 - AUC: 0.9934 - val_loss: 0.4843 - val_accuracy: 0.8182 - val_AUC: 0.9050\n",
      "Epoch 39/50\n",
      "85/85 [==============================] - 2s 18ms/sample - loss: 0.1963 - accuracy: 0.9882 - AUC: 0.9988 - val_loss: 0.4872 - val_accuracy: 0.8182 - val_AUC: 0.8988\n",
      "Epoch 40/50\n",
      "85/85 [==============================] - 2s 19ms/sample - loss: 0.2039 - accuracy: 0.9765 - AUC: 0.9983 - val_loss: 0.4799 - val_accuracy: 0.8182 - val_AUC: 0.9029\n",
      "Epoch 41/50\n",
      "85/85 [==============================] - 2s 18ms/sample - loss: 0.1986 - accuracy: 0.9529 - AUC: 0.9964 - val_loss: 0.4643 - val_accuracy: 0.8182 - val_AUC: 0.9029\n",
      "Epoch 42/50\n",
      "85/85 [==============================] - 2s 18ms/sample - loss: 0.1742 - accuracy: 0.9765 - AUC: 0.9979 - val_loss: 0.4555 - val_accuracy: 0.8182 - val_AUC: 0.9029\n",
      "Epoch 43/50\n",
      "85/85 [==============================] - 2s 19ms/sample - loss: 0.1802 - accuracy: 0.9647 - AUC: 0.9981 - val_loss: 0.4486 - val_accuracy: 0.8182 - val_AUC: 0.9008\n",
      "Epoch 44/50\n",
      "85/85 [==============================] - 2s 18ms/sample - loss: 0.1781 - accuracy: 0.9647 - AUC: 0.9979 - val_loss: 0.4500 - val_accuracy: 0.8182 - val_AUC: 0.9091\n",
      "Epoch 45/50\n",
      "85/85 [==============================] - 2s 19ms/sample - loss: 0.1775 - accuracy: 0.9882 - AUC: 0.9996 - val_loss: 0.4537 - val_accuracy: 0.8182 - val_AUC: 0.9050\n",
      "Epoch 46/50\n",
      "85/85 [==============================] - 2s 19ms/sample - loss: 0.1908 - accuracy: 0.9647 - AUC: 0.9952 - val_loss: 0.4576 - val_accuracy: 0.8182 - val_AUC: 0.9008\n",
      "Epoch 47/50\n",
      "85/85 [==============================] - 2s 19ms/sample - loss: 0.1683 - accuracy: 0.9882 - AUC: 0.9999 - val_loss: 0.4566 - val_accuracy: 0.8182 - val_AUC: 0.8988\n",
      "Epoch 48/50\n",
      "85/85 [==============================] - 2s 18ms/sample - loss: 0.1636 - accuracy: 0.9765 - AUC: 0.9983 - val_loss: 0.4474 - val_accuracy: 0.8182 - val_AUC: 0.9050\n",
      "Epoch 49/50\n",
      "85/85 [==============================] - 2s 19ms/sample - loss: 0.1592 - accuracy: 0.9647 - AUC: 0.9971 - val_loss: 0.4407 - val_accuracy: 0.8182 - val_AUC: 0.9091\n",
      "Epoch 50/50\n",
      "85/85 [==============================] - 2s 19ms/sample - loss: 0.1558 - accuracy: 0.9882 - AUC: 0.9982 - val_loss: 0.4404 - val_accuracy: 0.8182 - val_AUC: 0.9070\n"
     ]
    }
   ],
   "source": [
    "history= model.fit(train_data, labels_train, validation_split=0.2, epochs=50)"
   ]
  },
  {
   "cell_type": "code",
   "execution_count": 27,
   "id": "ec39d5fb",
   "metadata": {},
   "outputs": [
    {
     "data": {
      "image/png": "[encoded data removed]",
      "text/plain": [
       "<Figure size 504x360 with 1 Axes>"
      ]
     },
     "metadata": {
      "needs_background": "light"
     },
     "output_type": "display_data"
    }
   ],
   "source": [
    "plot_history(history, 'accuracy')"
   ]
  },
  {
   "cell_type": "code",
   "execution_count": 28,
   "id": "d2b78d08",
   "metadata": {},
   "outputs": [
    {
     "data": {
      "image/png": "[encoded data removed]",
      "text/plain": [
       "<Figure size 504x360 with 1 Axes>"
      ]
     },
     "metadata": {
      "needs_background": "light"
     },
     "output_type": "display_data"
    }
   ],
   "source": [
    "plot_history(history, 'AUC')"
   ]
  },
  {
   "cell_type": "code",
   "execution_count": 29,
   "id": "4c4ad7e8",
   "metadata": {},
   "outputs": [
    {
     "data": {
      "image/png": "[encoded data removed]",
      "text/plain": [
       "<Figure size 504x360 with 1 Axes>"
      ]
     },
     "metadata": {
      "needs_background": "light"
     },
     "output_type": "display_data"
    }
   ],
   "source": [
    "plot_history(history, 'loss')"
   ]
  },
  {
   "cell_type": "code",
   "execution_count": 30,
   "id": "cb6894cd",
   "metadata": {},
   "outputs": [],
   "source": [
    "predictions = np.argmax(model.predict(test_data), axis=1)"
   ]
  },
  {
   "cell_type": "code",
   "execution_count": 31,
   "id": "863fa826",
   "metadata": {},
   "outputs": [
    {
     "name": "stdout",
     "output_type": "stream",
     "text": [
      "EEGNet Clasification Report:\n",
      "               precision    recall  f1-score   support\n",
      "\n",
      "    Standard       0.86      0.95      0.90        38\n",
      "       Novel       0.60      0.33      0.43         9\n",
      "\n",
      "    accuracy                           0.83        47\n",
      "   macro avg       0.73      0.64      0.66        47\n",
      "weighted avg       0.81      0.83      0.81        47\n",
      "\n",
      "Accuracy of EEGNet model: 0.8297872340425532\n",
      "Precision: 0.7285714285714285, Recall: 0.6403508771929824, f1-score:0.6642857142857143\n"
     ]
    }
   ],
   "source": [
    "labels_test_true = np.argmax(labels_test, axis=1)\n",
    "report_eegnet = classification_report(labels_test_true, predictions, target_names=['Standard', 'Novel'])\n",
    "print('EEGNet Clasification Report:\\n {}'.format(report_eegnet))\n",
    "\n",
    "acc_eegnet = accuracy_score(labels_test_true, predictions)\n",
    "print(\"Accuracy of EEGNet model: {}\".format(acc_eegnet))\n",
    "\n",
    "precision_eegnet,recall_eegnet,fscore_eegnet,support_eegnet=precision_recall_fscore_support(labels_test_true,\n",
    "                                                                                predictions,\n",
    "                                                                                average='macro')\n",
    "print('Precision: {0}, Recall: {1}, f1-score:{2}'.format(precision_eegnet,recall_eegnet,fscore_eegnet))"
   ]
  },
  {
   "cell_type": "code",
   "execution_count": 32,
   "id": "b0d35d12",
   "metadata": {},
   "outputs": [],
   "source": [
    "accuracies.append([acc_eegnet])\n",
    "f1_scores.append([fscore_eegnet])"
   ]
  },
  {
   "cell_type": "code",
   "execution_count": 33,
   "id": "6aff2b9c",
   "metadata": {},
   "outputs": [],
   "source": [
    "def plotEvalMetrics(tasks, labels, evalMetric, metricName):\n",
    "    colors = ['#87CEFA', '#FFE4E1', '#CD5C5C']# the colors of the bars (max 3)\n",
    "    width = 0.2  # the width of the bars\n",
    "\n",
    "    # Set position of bar on X axis\n",
    "    rects = [np.arange(len(evalMetric[:][0]))]\n",
    "    for i in range(len(labels)-1):\n",
    "        rects.append([x + width for x in rects[-1]])\n",
    "\n",
    "    for i in range(len(labels)):\n",
    "        plt.bar(rects[i], evalMetric[i], color=colors[i], width=width, edgecolor='white', \n",
    "                    label=labels[i])\n",
    "\n",
    "    plt.xlabel('Classification Tasks')\n",
    "    plt.xticks([r + width for r in range(len(tasks))], tasks)\n",
    "    plt.ylabel(metricName)\n",
    "\n",
    "    plt.legend(bbox_to_anchor=(1.01, 1), loc='upper left', )\n",
    "    plt.show()"
   ]
  },
  {
   "cell_type": "code",
   "execution_count": 34,
   "id": "d491e650",
   "metadata": {},
   "outputs": [
    {
     "data": {
      "image/png": "[encoded data removed]",
      "text/plain": [
       "<Figure size 432x288 with 1 Axes>"
      ]
     },
     "metadata": {
      "needs_background": "light"
     },
     "output_type": "display_data"
    },
    {
     "name": "stdout",
     "output_type": "stream",
     "text": [
      "[[0.851063829787234], [0.8297872340425532]]\n"
     ]
    }
   ],
   "source": [
    "#Plot Accuracies\n",
    "tasks = ['Standard-Novel']\n",
    "labels = ['Standard', 'Optimized']\n",
    "plotEvalMetrics(tasks, labels, accuracies, 'Accuracy')\n",
    "print(accuracies)"
   ]
  },
  {
   "cell_type": "code",
   "execution_count": 35,
   "id": "35b2bb49",
   "metadata": {},
   "outputs": [
    {
     "data": {
      "image/png": "[encoded data removed]",
      "text/plain": [
       "<Figure size 432x288 with 1 Axes>"
      ]
     },
     "metadata": {
      "needs_background": "light"
     },
     "output_type": "display_data"
    }
   ],
   "source": [
    "#Plot F1 Scores\n",
    "tasks = ['Standard-Novel']\n",
    "labels = ['Standard', 'Optimized']\n",
    "plotEvalMetrics(tasks, labels, f1_scores, 'F1-Scores')"
   ]
  },
  {
   "cell_type": "code",
   "execution_count": null,
   "id": "355bd7f8",
   "metadata": {},
   "outputs": [],
   "source": []
  },
  {
   "cell_type": "code",
   "execution_count": null,
   "id": "dba33d65",
   "metadata": {},
   "outputs": [],
   "source": []
  }
 ],
 "metadata": {
  "kernelspec": {
   "display_name": "Python 3 (ipykernel)",
   "language": "python",
   "name": "python3"
  },
  "language_info": {
   "codemirror_mode": {
    "name": "ipython",
    "version": 3
   },
   "file_extension": ".py",
   "mimetype": "text/x-python",
   "name": "python",
   "nbconvert_exporter": "python",
   "pygments_lexer": "ipython3",
   "version": "3.7.11"
  }
 },
 "nbformat": 4,
 "nbformat_minor": 5
}
